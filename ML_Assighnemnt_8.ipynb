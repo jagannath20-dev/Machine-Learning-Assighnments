{
 "cells": [
  {
   "cell_type": "markdown",
   "id": "a04e59f1",
   "metadata": {},
   "source": [
    "1. What exactly is a feature? Give an example to illustrate your point."
   ]
  },
  {
   "cell_type": "markdown",
   "id": "d0ac6cd6",
   "metadata": {},
   "source": [
    "Answer  :\n",
    "    \n",
    "      Features are the basic building blocks of datasets. The quality of the features in your dataset has a major \n",
    "      impact on the quality of the insights you will gain when you use that dataset for machine learning.\n",
    "\n",
    "      Additionally, different business problems within the same industry do not necessarily require the same \n",
    "      features, which is why it is important to have a strong understanding of the business goals of your \n",
    "      data science project."
   ]
  },
  {
   "cell_type": "markdown",
   "id": "b54193cd",
   "metadata": {},
   "source": [
    "2. What are the various circumstances in which feature construction is required?"
   ]
  },
  {
   "cell_type": "markdown",
   "id": "f3435414",
   "metadata": {},
   "source": [
    "Answer  :\n",
    "    \n",
    "     The features in your data will directly influence the predictive models you use and the results you can\n",
    "     achieve. Your results are dependent on many inter-dependent properties. You need great features that describe\n",
    "     the structures inherent in your data. Better features means flexibility."
   ]
  },
  {
   "cell_type": "markdown",
   "id": "f24f42c3",
   "metadata": {},
   "source": [
    "3. Describe how nominal variables are encoded."
   ]
  },
  {
   "cell_type": "markdown",
   "id": "fe0adbbe",
   "metadata": {},
   "source": [
    "Answer  :\n",
    "    \n",
    "    Nominal data is made of discrete values with no numerical relationship between the different categories — mean\n",
    "    and median are meaningless. Animal species is one example. For example, pig is not higher than bird and lower\n",
    "    than fish."
   ]
  },
  {
   "cell_type": "markdown",
   "id": "c6437460",
   "metadata": {},
   "source": [
    "4. Describe how numeric features are converted to categorical features."
   ]
  },
  {
   "cell_type": "markdown",
   "id": "ad46dddb",
   "metadata": {},
   "source": [
    "Answer  :\n",
    "\n",
    "    Converting categorical features into numeric features using domain knowledge. For example, we are given a list\n",
    "    of countries and say we know the distance to these countries from India then we can replace it with distance\n",
    "    from India. So, every country can be represented as its distance from India."
   ]
  },
  {
   "cell_type": "markdown",
   "id": "3a9bd534",
   "metadata": {},
   "source": [
    "5. Describe the feature selection wrapper approach. State the advantages and disadvantages of this approach?"
   ]
  },
  {
   "cell_type": "markdown",
   "id": "b695ae5b",
   "metadata": {},
   "source": [
    "Answer  :\n",
    "    \n",
    "     Wrapper methods measure the “usefulness” of features based on the classifier performance. In contrast, the\n",
    "     filter methods pick up the intrinsic properties of the features (i.e., the “relevance” of the features) \n",
    "     measured via univariate statistics instead of cross-validation performance.\n",
    "\n",
    "    The wrapper classification algorithms with joint dimensionality reduction and classification can also be used\n",
    "    but these methods have high computation cost, lower discriminative power. Moreover, these methods depend on\n",
    "    the efficient selection of classifiers for obtaining high accuracy"
   ]
  },
  {
   "cell_type": "markdown",
   "id": "876e4105",
   "metadata": {},
   "source": [
    "6. When is a feature considered irrelevant? What can be said to quantify it?"
   ]
  },
  {
   "cell_type": "markdown",
   "id": "19e5e61d",
   "metadata": {},
   "source": [
    "Answer  :\n",
    "    \n",
    "      Features are considered relevant if they are either strongly or weakly relevant, and are considered \n",
    "      irrelevant otherwise.\n",
    "\n",
    "      Irrelevant features can never contribute to prediction accuracy, by definition. Also to quantify it we need\n",
    "      to first check the list of features, There are three types of feature selection:\n",
    "\n",
    "      Wrapper methods (forward, backward, and stepwise selection)\n",
    "      Filter methods (ANOVA, Pearson correlation, variance thresholding)\n",
    "      Embedded methods (Lasso, Ridge, Decision Tree)."
   ]
  },
  {
   "cell_type": "markdown",
   "id": "7451b5c5",
   "metadata": {},
   "source": [
    "7. When is a function considered redundant? What criteria are used to identify features that could be redundant?"
   ]
  },
  {
   "cell_type": "markdown",
   "id": "9f86329e",
   "metadata": {},
   "source": [
    "Answer  :\n",
    "    \n",
    "      If two features {X1, X2} are highly correlated, then the two features become redundant features since they\n",
    "      have same information in terms of correlation measure. In other words, the correlation measure provides \n",
    "      statistical association between any given a pair of features.\n",
    "\n",
    "     Minimum redundancy feature selection is an algorithm frequently used in a method to accurately identify \n",
    "     characteristics of genes and phenotypes"
   ]
  },
  {
   "cell_type": "markdown",
   "id": "2891572d",
   "metadata": {},
   "source": [
    "8. What are the various distance measurements used to determine feature similarity?"
   ]
  },
  {
   "cell_type": "markdown",
   "id": "f1122d07",
   "metadata": {},
   "source": [
    "Answer  :\n",
    "    \n",
    "     Four of the most commonly used distance measures in machine learning are as follows:\n",
    "\n",
    "    Hamming Distance.\n",
    "    Euclidean Distance\n",
    "    Manhattan Distance."
   ]
  },
  {
   "cell_type": "markdown",
   "id": "ef763c56",
   "metadata": {},
   "source": [
    "9. State difference between Euclidean and Manhattan distances?"
   ]
  },
  {
   "cell_type": "markdown",
   "id": "58559079",
   "metadata": {},
   "source": [
    "Answer  :\n",
    "    \n",
    "      Euclidean & Hamming distances are used to measure similarity or dissimilarity between two sequences. \n",
    "      Euclidean distance is extensively applied in analysis of convolutional codes and Trellis codes.\n",
    "\n",
    "      Hamming distance is frequently encountered in the analysis of block codes."
   ]
  },
  {
   "cell_type": "markdown",
   "id": "4471b822",
   "metadata": {},
   "source": [
    "10. Distinguish between feature transformation and feature selection."
   ]
  },
  {
   "cell_type": "markdown",
   "id": "989c8c07",
   "metadata": {},
   "source": [
    "Answer  :\n",
    "    \n",
    "      Feature selection is for filtering irrelevant or redundant features from your dataset. The key difference\n",
    "      between feature selection and extraction is that feature selection keeps a subset of the original features\n",
    "      while feature extraction creates brand new ones."
   ]
  },
  {
   "cell_type": "code",
   "execution_count": null,
   "id": "9c54c884",
   "metadata": {},
   "outputs": [],
   "source": []
  }
 ],
 "metadata": {
  "kernelspec": {
   "display_name": "Python 3 (ipykernel)",
   "language": "python",
   "name": "python3"
  },
  "language_info": {
   "codemirror_mode": {
    "name": "ipython",
    "version": 3
   },
   "file_extension": ".py",
   "mimetype": "text/x-python",
   "name": "python",
   "nbconvert_exporter": "python",
   "pygments_lexer": "ipython3",
   "version": "3.9.12"
  }
 },
 "nbformat": 4,
 "nbformat_minor": 5
}
