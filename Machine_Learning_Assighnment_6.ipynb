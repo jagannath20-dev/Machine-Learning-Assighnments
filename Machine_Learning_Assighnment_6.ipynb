{
 "cells": [
  {
   "cell_type": "markdown",
   "id": "2f0b0379",
   "metadata": {},
   "source": [
    "1. In the sense of machine learning, what is a model? What is the best way to train a model?"
   ]
  },
  {
   "cell_type": "markdown",
   "id": "267bc144",
   "metadata": {},
   "source": [
    "Answer :\n",
    "    \n",
    "       A Machine Learning Model is a file that has been trained to recognize certain types of patterns. You train\n",
    "       a model over a set of data, providing it an algorithm that it can use to reason over and learn from those \n",
    "       data.\n",
    "\n",
    "Model Naming :\n",
    "\n",
    "       Give Your Model a Name, Let’s start with giving your model a name, describe your model and attach tags to \n",
    "       your model. Tags are to make your model searchable.\n",
    "       \n",
    "Data Type Selection :\n",
    "\n",
    "      Choose data type(Images/Text/CSV), It’s time to tell us about the type of data you want to train your model. \n",
    "      ML Models support Images, Text and *.CSV (categorical data) data types.\n",
    "      \n",
    "Data Upload :\n",
    "\n",
    "     Upload your data or choose from Public Data Sets: Choose from public datasets like Jewellery Data set \n",
    "     (Images), Gender Data Set (Images), Question or Sentence Data Set (Text), Numerai Data Set (CSV) or upload \n",
    "     your data.\n",
    "     Type category(label) for the files (images/text file) that you have uploaded and click on submit to begin \n",
    "     upload. Wait for some time till our web app uploads all the files. You can upload images for as many \n",
    "     categories as possible.\n",
    "     \n",
    "Start Training :\n",
    "\n",
    "    Push the button, to start the training. Now Mateverse’s intelligent backend will start with processing the \n",
    "    data that you have uploaded and preparing it for the training."
   ]
  },
  {
   "cell_type": "markdown",
   "id": "45cba879",
   "metadata": {},
   "source": [
    "2. In the sense of machine learning, explain the \"No Free Lunch\" theorem."
   ]
  },
  {
   "cell_type": "markdown",
   "id": "2db2f46c",
   "metadata": {},
   "source": [
    "Answer :\n",
    "\n",
    "     Ans: The No Free Lunch Theorem, often abbreviated as NFL or NFLT, is a theoretical finding that suggests \n",
    "     all optimization algorithms perform equally well when their performance is averaged over all possible \n",
    "     objective functions. In computational complexity and optimization the no free lunch theorem is a result \n",
    "     that states that for certain types of mathematical problems, the computational cost of finding a solution,  \n",
    "     averaged over all problems in the class, is the same for any solution method.\n",
    "     \n",
    "     In Simple Words “No Free Lunch” theorem means we can’t rely on one model to be best of all models. We have \n",
    "     to understand data properly and make use of ML understanding and make use of models to find best out of it."
   ]
  },
  {
   "cell_type": "markdown",
   "id": "f470dc17",
   "metadata": {},
   "source": [
    "3. Describe the K-fold cross-validation mechanism in detail."
   ]
  },
  {
   "cell_type": "markdown",
   "id": "9e14e150",
   "metadata": {},
   "source": [
    "    A Gentle Introduction to k-fold Cross-Validation by Jason Brownlee on May 23, 2018 in Statistics\n",
    "\n",
    "    Cross-validation is a statistical method used to estimate the skill of machine learning models.\n",
    "\n",
    "    It is commonly used in applied machine learning to compare and select a model for a given predictive modeling \n",
    "    problem because it is easy to understand, easy to implement, and results in skill estimates that generally have\n",
    "    a lower bias than other methods.\n",
    "\n",
    "    That k-fold cross validation is a procedure used to estimate the skill of the model on new data.\n",
    "    There are common tactics that you can use to select the value of k for your dataset.\n",
    "    There are commonly used variations on cross-validation such as stratified and repeated that are available in \n",
    "    scikit-learn."
   ]
  },
  {
   "cell_type": "markdown",
   "id": "e099c3cd",
   "metadata": {},
   "source": [
    "4. Describe the bootstrap sampling method. What is the aim of it?"
   ]
  },
  {
   "cell_type": "markdown",
   "id": "85afe2d4",
   "metadata": {},
   "source": [
    "Answer :\n",
    "\n",
    "     The bootstrap method is a resampling technique used to estimate statistics on a population by sampling a \n",
    "     dataset with replacement.\n",
    "\n",
    "     It can be used to estimate summary statistics such as the mean or standard deviation. It is used in applied \n",
    "     machine learning to estimate the skill of machine learning models when making predictions on data not included\n",
    "     in the training data.\n",
    "\n",
    "     A desirable property of the results from estimating machine learning model skill is that the estimated skill\n",
    "     can be presented with confidence intervals, a feature not readily available with other methods such as \n",
    "     cross-validation.\n",
    "     \n",
    "     The bootstrap method involves iteratively resampling a dataset with replacement.\n",
    "     That when using the bootstrap you must choose the size of the sample and the number of repeats.\n",
    "     The scikit-learn provides a function that you can use to resample a dataset for the bootstrap method."
   ]
  },
  {
   "cell_type": "markdown",
   "id": "dc6cf547",
   "metadata": {},
   "source": [
    "5. What is the significance of calculating the Kappa value for a classification model? Demonstrate how to measure the Kappa value of a classification model using a sample collection of results."
   ]
  },
  {
   "cell_type": "markdown",
   "id": "709bbead",
   "metadata": {},
   "source": [
    "Answer :\n",
    "    \n",
    "    Kappa value or Cohen's Kappa coefficient is an evaluation metric for classification models. Its significance as\n",
    "    an evaluation metric is that it can be used to evaluate multi class classification models and also works on\n",
    "    models trained on imbalanced datasets(scores like accuracy scores fail for imbalanced datasets).\n",
    "\n",
    "    In simpler words It basically tells you how much better your classifier is performing over the performance \n",
    "    of a classifier that simply guesses at random according to the frequency of each class. Cohen's kappa is \n",
    "    always less than or equal to 1. Values of 0 or less, indicate that the classifier is useless Cohen suggested \n",
    "    the Kappa result be interpreted as follows: values ≤ 0 as indicating no agreement and 0.01–0.20 as none to\n",
    "    slight, 0.21–0.40 as fair, 0.41– 0.60 as moderate, 0.61–0.80 as substantial, and 0.81–1.00 as almost perfect \n",
    "    agreement"
   ]
  },
  {
   "cell_type": "markdown",
   "id": "065d6c3c",
   "metadata": {},
   "source": [
    "6. Describe the model ensemble method. In machine learning, what part does it play?"
   ]
  },
  {
   "cell_type": "markdown",
   "id": "b77cc6d1",
   "metadata": {},
   "source": [
    "Answer :\n",
    "\n",
    "     Ensemble methods or ensemble machine learning models are models where more than one models are being used \n",
    "     spontaneously to produce better results than individually trained models."
   ]
  },
  {
   "cell_type": "markdown",
   "id": "6398bee2",
   "metadata": {},
   "source": [
    "7. What is a descriptive model's main purpose? Give examples of real-world problems that descriptive models were used to solve."
   ]
  },
  {
   "cell_type": "markdown",
   "id": "3957575f",
   "metadata": {},
   "source": [
    "Answer :\n",
    "\n",
    "        Ans: A descriptive model is used for tasks that would benefit from the insight gained from summarizing data \n",
    "        in new and interesting ways. As opposed to predictive models that predict a target of interest, in a \n",
    "        descriptive model, no single feature is more important than any other. In fact, because there is no target\n",
    "        to learn, the process of training a descriptive model is called unsupervised learning.\n",
    "        It is used in customer classification as real life problem ."
   ]
  },
  {
   "cell_type": "markdown",
   "id": "1d4ef515",
   "metadata": {},
   "source": [
    "8. Describe how to evaluate a linear regression model."
   ]
  },
  {
   "cell_type": "markdown",
   "id": "cef3fbb7",
   "metadata": {},
   "source": [
    "Answer  :\n",
    "\n",
    "        Evaluation of a linear regression model can be done using R-square. R square is calculated as the sum of\n",
    "        squared errors in predictions made, divided by summation of all sum of squares. R square measures how much\n",
    "        of the change in target variable can be explained by the linear regressor. Its value ranges from 0 to 1 \n",
    "        where 0 means poor performance and 1 means good. Some other techniques which can be used to evaluate a \n",
    "        linear regression model are:\n",
    "\n",
    "       Mean Square Error(MSE)/Root Mean Square Error(RMSE)\n",
    "       Mean Absolute Error(MAE)"
   ]
  },
  {
   "cell_type": "markdown",
   "id": "b1a69e49",
   "metadata": {},
   "source": [
    "\n",
    "9. Distinguish :\n",
    "\n",
    "1> Descriptive vs. predictive models\n",
    "\n",
    "2> Underfitting vs. overfitting the model\n",
    "\n",
    "3> Bootstrapping vs. cross-validation"
   ]
  },
  {
   "cell_type": "markdown",
   "id": "6fce602d",
   "metadata": {},
   "source": [
    "Answer  :\n",
    "    \n",
    "        The differences between:\n",
    "\n",
    "Descriptive vs. predictive models \n",
    "\n",
    "     Descriptive models are built to identify trends and underlying patterns.\n",
    "     Predictive models are built to predict a dependent variable value.\n",
    "     Most of descriptive models are built using unsupervised machine learning.\n",
    "     Most of predictive models are built using classification and regression models.\n",
    "     Example for descriptive model: Finding why consumers are engaging more with a social media post.\n",
    "     Example for predictive model: Predicting the chances of cancer in a patient.\n",
    "     \n",
    "Underfitting vs. overfitting the model\n",
    "\n",
    "     Underfitting is a situation arising when the hypothesis is way too simple, or when the machine learning model\n",
    "     is way too simple to produce good results.\n",
    "     Overfitting is a situation arising when the hypothesis is way too complex, or when the machine learning model\n",
    "     is way too complex to produce good results.\n",
    "     Underfitting causes a model to produce poor results due to heavily simplified algorithm reacting lightly to\n",
    "     changes in the unseen data for independent variables from the training data.\n",
    "     Overfitting makes a model produce poor results due to slightest variations in the unseen data for independent\n",
    "     variables from the training data\n",
    "     Underfitting is also called High Bias.\n",
    "     Overfitting is also called High variance\n",
    "     \n",
    "Bootstrapping vs cross-validation\n",
    "\n",
    "     Boostrap sampling is a method of sampling in which the repeated sampling is done with replacement using a \n",
    "     data D in random draws over which machine learning models are trained for better performance.\n",
    "     Cross validation is a method used to check the efficacy of the machine learning model on test data.\n",
    "     End goal of bootstrapping is to reduce overfitting and increase performance.\n",
    "     End goal of cross validation is only to produce test scores to check efficacy of model\n",
    "     Bootstrapping is best employed in Random Forest Classifier.\n",
    "     Cross Validation is best employed using K-fold cross validation technique."
   ]
  },
  {
   "cell_type": "markdown",
   "id": "c5ba70c6",
   "metadata": {},
   "source": [
    "10. Make quick notes on:\n",
    "\n",
    "            1. LOOCV.\n",
    "\n",
    "            2. F-measurement\n",
    "\n",
    "            3. The width of the silhouette\n",
    "\n",
    "             4. Receiver operating characteristic curve"
   ]
  },
  {
   "cell_type": "markdown",
   "id": "4ec24618",
   "metadata": {},
   "source": [
    "Answer  :\n",
    "    \n",
    "    \n",
    "       The Quick notes on: LOOCV or Leave One Out Cross Validation is a form of K-fold cross validation where only\n",
    "       one observation is left out for validation purpose while the rest of the data is used for model training \n",
    "       each iteration. It is computationally taxing and should only be used for data with low dimensionality.\n",
    "\n",
    "      Harmonic mean of Precision score and recall score is called F-measurement or F-score. It is formulated as 2\n",
    "      (pr re)/pr +re where pr is precision score and re is recall score.\n",
    "\n",
    "     Estimate of average inter cluster distance to give efficacy/performance of cluster algorithms is called width\n",
    "     of the silhouette. It can also be defined as how identical/similar a data point 'x' is to the data points \n",
    "     inside the cluster to which x is assigned. Its value ranges from -1 to 1 where 1 means good and -1 means bad.\n",
    "\n",
    "    Curve plotted between True Positive Rate and False Positive Rate is Receiver Operating Characteristics curve\n",
    "    and is used to find the area under the curve for ROC-AUC score for binary classification evaluation. True\n",
    "    Positive Rate and False Positive Rate are calculated for different thresholds values where thresholds \n",
    "    take values starting from the highest probability scores assigned to data points and goes up to the lowest \n",
    "    probability score. The curve is impacted by presence of outliers, and simple models. Extensions can be made\n",
    "    to this curve to suit multiclass classification evaluation requirements."
   ]
  },
  {
   "cell_type": "code",
   "execution_count": null,
   "id": "dc024f24",
   "metadata": {},
   "outputs": [],
   "source": []
  }
 ],
 "metadata": {
  "kernelspec": {
   "display_name": "Python 3 (ipykernel)",
   "language": "python",
   "name": "python3"
  },
  "language_info": {
   "codemirror_mode": {
    "name": "ipython",
    "version": 3
   },
   "file_extension": ".py",
   "mimetype": "text/x-python",
   "name": "python",
   "nbconvert_exporter": "python",
   "pygments_lexer": "ipython3",
   "version": "3.9.12"
  }
 },
 "nbformat": 4,
 "nbformat_minor": 5
}
