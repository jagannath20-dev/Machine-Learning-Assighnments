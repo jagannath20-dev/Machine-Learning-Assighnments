{
 "cells": [
  {
   "cell_type": "markdown",
   "id": "daaa68eb",
   "metadata": {},
   "source": [
    "1.Explain the term machine learning, and how does it work? Explain two machine learning applications in the business world. What are some of the ethical concerns that machine learning applications could raise?\n"
   ]
  },
  {
   "cell_type": "markdown",
   "id": "4f50b434",
   "metadata": {},
   "source": [
    "Answer  :\n",
    "    \n",
    "        Machine Learning is a subset of Artificial intelligence that allows computers to learn from past\n",
    "        experiences without being explicitly programmed.\n",
    "        Machine Learning algorithms uses historical data as input to predict output values.\n",
    "       \n",
    "Machine Learning Applications in Busineess world : \n",
    "         \n",
    "        1. Supply Chain Management\n",
    "        2. Finance\n",
    "        3. Healthcare\n",
    "        4. Agriculture\n",
    "        5. Weather prediction ets.\n",
    "he following list enumerates all the ethical issues that were identified from the case studies :\n",
    "        \n",
    "        1. Cost to innovation\n",
    "        2. Lack of quality data\n",
    "        3. Lack of transparency\n",
    "        4. Misuse of personal data\n",
    "        5. Disappearance of jobs\n",
    "        6. Lack of access to public services etc"
   ]
  },
  {
   "cell_type": "markdown",
   "id": "addc62c9",
   "metadata": {},
   "source": [
    "2. Describe the process of human learning:\n",
    "    \n",
    "           i. Under the supervision of experts\n",
    "           ii. With the assistance of experts in an indirect manner\n",
    "           iii. Self-education"
   ]
  },
  {
   "cell_type": "markdown",
   "id": "b9529536",
   "metadata": {},
   "source": [
    "Answer  :\n",
    "\n",
    "        Human Learning is a process of acquiring knowledge.Our behaviour, skills values,ethics are acquired. \n",
    "        \n",
    "Under the supervision of experts: \n",
    "\n",
    "         Human-guided machine learning is a process whereby subject matter experts accelerate the learning \n",
    "         process by teaching the technology in real-time. For example, if the machine learning model comes \n",
    "         across a piece of data it is uncertain about, a human can be asked to weigh in and give feedback. \n",
    "         The model then learns from this input, and uses it to make a more accurate prediction the next time. \n",
    "         Human-guided machine learning works from the bottom up by first using algorithms to conduct the heavy \n",
    "         lifting of identifying relationships within the data, and engaging humans when necessary for training\n",
    "         or validation Concept Learning.\n",
    "\n",
    "With the assistance of experts in an indirect manner: \n",
    "\n",
    "        Well The process of an algorithm learning from the training dataset can be thought of as a teacher \n",
    "        supervising the learning process. We know the correct answers, the algorithm iteratively makes \n",
    "        predictions on the training data and is corrected by the teacher. Learning stops when the algorithm \n",
    "        achieves an acceptable level of performance Operant Conditioning.\n",
    "\n",
    "Self education: \n",
    "      \n",
    "         Ability to recognize patterns, learn from data, and become more intelligent over time \n",
    "         (can be AI or programmatically based).Machine Learning: AI systems with ability to automatically\n",
    "         learn and improve from experience without being explicitly programmed via training Hebbian Learning."
   ]
  },
  {
   "cell_type": "markdown",
   "id": "21195714",
   "metadata": {},
   "source": [
    "3. Provide a few examples of various types of machine learning ?"
   ]
  },
  {
   "cell_type": "markdown",
   "id": "2e722345",
   "metadata": {},
   "source": [
    "Answer  :\n",
    "    \n",
    "Supervised Learning  :\n",
    "     \n",
    "                     In Supervised Learning, there are two types of problems. They are regression problems and\n",
    "                     classification problems.Under Regressrion method there are two types of problems will\n",
    "                     be there.One is Linear Regression and another one is Logistic Regression.\n",
    "                     And also another type of model problems is there i.e is Classification problems.\n",
    "                     In Regression methods, both input and output is given to train the model to predict \n",
    "                     outcomes.\n",
    "                     Ex : Sales Prediction,Classification problems.\n",
    "Unsupervised Learning :\n",
    "\n",
    "                    In unsupervised Learning ,Clustering problems are supported to use predict outcomes.In \n",
    "                    unsupervised problems only input labels are given to train the model but output is not given\n",
    "                    in unsupervised learning model, the model itself findout the patterns to predict outcomes.\n",
    "                    Ex : Malware Detection\n",
    "Reinforcement Learning:\n",
    "\n",
    "                   In Reinforcement learning,the model act as an agent.Examples are self driving cars"
   ]
  },
  {
   "cell_type": "markdown",
   "id": "86b8eca1",
   "metadata": {},
   "source": [
    "4. Examine the various forms of machine learning."
   ]
  },
  {
   "cell_type": "markdown",
   "id": "946d3a82",
   "metadata": {},
   "source": [
    "Answer  :\n",
    "    \n",
    "         Supervised Learning\n",
    "         Unsupervised Learning\n",
    "         Reinforcement Learning\n",
    "         Semi-supervised Learning"
   ]
  },
  {
   "cell_type": "markdown",
   "id": "182f29a6",
   "metadata": {},
   "source": [
    "5. Can you explain what a well-posed learning problem is? Explain the main characteristics that must be present to identify a learning problem properly."
   ]
  },
  {
   "cell_type": "markdown",
   "id": "8b5bae70",
   "metadata": {},
   "source": [
    "Answer  :\n",
    "    \n",
    "Well-Posed Learning problem :\n",
    "\n",
    "          A Computer program is said to learn from experience E in context to some task T and some perfomance\n",
    "          P, if it's perfomance on T, as was measure by p upgrades with experience E.\n",
    "          Any problem can be segregated as well-posed learning problem if it has three traits – Task, \n",
    "          Performance and Experience."
   ]
  },
  {
   "cell_type": "markdown",
   "id": "ff42149d",
   "metadata": {},
   "source": [
    "6. Is machine learning capable of solving all problems? Give a detailed explanation of your answer?"
   ]
  },
  {
   "cell_type": "markdown",
   "id": "3d7569ca",
   "metadata": {},
   "source": [
    "Answer  :\n",
    "    \n",
    "        Now, Machine Learning is seen as silver bullet for solving problems.But all problems cant be solved \n",
    "        by using machine learning.\n",
    "        The idea of trusting data and algorithms more than our own judgment has its pros and cons.Obviously, \n",
    "        we benefit from these algorithms, otherwise, we wouldn’t be using them in the first place. These \n",
    "        algorithms allow us to automate processes by making informed judgments using available data. \n",
    "        Sometimes, however, this means replacing someone’s job with an algorithm, which comes with \n",
    "        ethical ramifications.\n",
    "\n",
    "Deterministic Problem: \n",
    "\n",
    "        Machine learning is stochastic, not deterministic. A neural network does not understand Newton’s \n",
    "        second law, or that density cannot be negative — there are no physical constraints.\n",
    "\n",
    "Lack of Data: \n",
    "\n",
    "       Many machine learning algorithms require large amounts of data before they begin to give useful results."
   ]
  },
  {
   "cell_type": "markdown",
   "id": "7e7e7398",
   "metadata": {},
   "source": [
    "7. What are the various methods and technologies for solving machine learning problems? Any two of them should be defined in detail.\n"
   ]
  },
  {
   "cell_type": "markdown",
   "id": "a3812dec",
   "metadata": {},
   "source": [
    "Answer  :\n",
    "    \n",
    "        Regression,Classification,Clustering, Dimensionality Reduction, Ensemble Methods, Neural Network, \n",
    "        Deep Learning, Transfer Learning, Reinforcement Learning, Natural Language Processing,Computer vision.\n",
    "        In Regression methods, both input and output is given to train the model to predict outcomes\n",
    "        Ex : Sales Prediction,Classification problems.\n",
    "        In unsupervised Learning ,Clustering problems are supported to use predict outcomes.In \n",
    "        unsupervised problems only input labels are given to train the model but output is not given\n",
    "        in unsupervised learning model, the model itself findout the patterns to predict outcomes.\n",
    "        Ex : Malware Detection\n",
    "Scikit Learn: \n",
    "\n",
    "        Scikit-learn (Sklearn) is the most useful and robust library for machine learning in Python. It provides \n",
    "        a selection of efficient tools for machine learning and statistical modeling including classification,                 Regression, clustering and dimensionality reduction via a consistence interface in Python.\n",
    "Tensorflow: \n",
    "\n",
    "       It is a open source artificial intelligence library, Using data flow graphs to build models. \n",
    "       It allows developers to create large-scale neural networks with many layers. TensorFlow is mainly used \n",
    "       for Classification, Perception, Understanding, Discovering, Prediction and Creation.   "
   ]
  },
  {
   "cell_type": "markdown",
   "id": "65f1f2ac",
   "metadata": {},
   "source": [
    "8. Can you explain the various forms of supervised learning? Explain each one with an example application."
   ]
  },
  {
   "cell_type": "markdown",
   "id": "1e8e1206",
   "metadata": {},
   "source": [
    "Answer  :\n",
    "\n",
    "        The various forms of supervised learning are explained in detail below:\n",
    "\n",
    "Regression: \n",
    "             \n",
    "       In regression, a single output value is produced using training data.For example, regression can \n",
    "       help predict the price of a house based on its locality, size, etc.\n",
    "Classification: \n",
    "\n",
    "       It involves grouping the data into classes.eg. If you are thinking of extending credit to a person, you \n",
    "       can use classification to determine whether or not a person would be a loan defaulter.\n",
    "Naive Bayesian Model: \n",
    "\n",
    "          The Bayesian model of classification is used for large finite datasets. It is a method of assigning \n",
    "          class labels using a direct acyclic graph.\n",
    "Decision Trees: \n",
    "\n",
    "         A decision tree is a flowchart-like model that contains conditional control statements, comprising\n",
    "         decisions and their probable consequences. The output relates to the labelling of unforeseen data."
   ]
  },
  {
   "cell_type": "markdown",
   "id": "5f8ce9f6",
   "metadata": {},
   "source": [
    "9. What is the difference between supervised and unsupervised learning? With a sample application in each region, explain the differences."
   ]
  },
  {
   "cell_type": "markdown",
   "id": "fdc92419",
   "metadata": {},
   "source": [
    "Answer  :\n",
    "    \n",
    "       Supervised earning algorithms are trained using labeled data. Unsupervised learning algorithms are \n",
    "       trained using unlabeled data.In unsupervised learning, only input data is provided to the model.\n",
    "Examples:\n",
    "       \n",
    "       Supervised Learning : Classification and Regression.\n",
    "       Unsuperised Learning : Clustering."
   ]
  },
  {
   "cell_type": "markdown",
   "id": "42868da3",
   "metadata": {},
   "source": [
    "10. Describe the machine learning process in depth.\n",
    "\n",
    "a. Make brief notes on any two of the following:\n",
    "\n",
    "MATLAB is one of the most widely used programming languages.\n",
    "\n",
    "        ii. Deep learning applications in healthcare\n",
    "\n",
    "        iii. Study of the market basket\n",
    "\n",
    "         iv. Linear regression (simple)"
   ]
  },
  {
   "cell_type": "markdown",
   "id": "5f083d6f",
   "metadata": {},
   "source": [
    "Answer  :\n",
    "    \n",
    "        Imagine a dataset as a table, where the rows are each observation (aka measurement, data point, etc), and \n",
    "        the columns for each observation represent the features of that observation and their values.At the outset \n",
    "        of a machine learning project, a dataset is usually split into two or three subsets. The minimum subsets \n",
    "        are the training and test datasets, and often an optional third validation dataset is created as well. \n",
    "        Once these data subsets are created from the primary dataset, a predictive model or classifier is \n",
    "        trained using the training data, and then the model’s predictive accuracy is determined using the test \n",
    "        data. As, machine learning leverages algorithms to automatically model and find patternsin data, usually with         the goal of predicting some target output or response. These algorithms are heavily based on statistics \n",
    "        and mathematical optimization. Optimization is the process of finding the smallest or largest value \n",
    "        (minima or maxima) of a function, often referred to as a loss, or cost function in the minimization case. \n",
    "        One of the most popular optimization algorithms used in machine learning is called gradient descent, \n",
    "        and another is known as the the normal equation. In a nutshell, machine learning is all about \n",
    "        automatically learning a highly accurate predictive or classifier model, or finding unknown patterns \n",
    "        in data, by leveraging learning algorithms and optimization techniques.\n",
    "\n",
    "Deep learning applications in healthcare: \n",
    "\n",
    "          Deep learning provides the healthcare industry with the ability to analyze data at exceptional speeds                 without compromising on accuracy. It’s not machine learning, nor is it AI, it’s an elegant blend of \n",
    "          both that uses a layered algorithmic architecture to sift through data at an astonishing rate. The \n",
    "          benefits of deep learning in healthcare are plentiful – fast, efficient, accurate – but they don’t \n",
    "          stop there. Even more benefits lie within the neural networks formed by multiple layers of AI and ML \n",
    "          and their ability to learn. Yes, the secret to deep learning’s success is in the name – learning.\n",
    "\n",
    "Linear regression (simple): \n",
    "\n",
    "         Linear Regression models describe the relationship between variables by fitting a line to the observed \n",
    "         data. Linear regression models use a straight line, while logistic and nonlinear regression models use\n",
    "         a curved line. Regression allows you to estimate how a dependent variable changes as the \n",
    "         independent variable(s) change"
   ]
  },
  {
   "cell_type": "markdown",
   "id": "dfbc8f62",
   "metadata": {},
   "source": [
    "11. Make a comparison between:-\n",
    "\n",
    "         1. Generalization and abstraction\n",
    "\n",
    "          2. Learning that is guided and unsupervised\n",
    "\n",
    "          3. Regression and classification"
   ]
  },
  {
   "cell_type": "markdown",
   "id": "5da350a0",
   "metadata": {},
   "source": [
    "Answer  :\n",
    "    \n",
    "       Generalization and abstraction: Abstraction is the process of removing details of objects. And \n",
    "       Generalization, then, is the formulation of general concepts from specific instances by abstracting \n",
    "       common properties. A concrete object can be looked at as a “subset” of a more generalized object.\n",
    "\n",
    "      Learning that is guided and Unsupervised: Supervised learning is the method that trains machines to use \n",
    "      data that is well classified and labeled. Whereas Unsupervised learning, on the other hand, is the method \n",
    "      that trains machines to use data that is neither classified nor labeled.\n",
    "\n",
    "Regression and classification:\n",
    "\n",
    "      Classification Models – Classification models are used for problems where the output variable can \n",
    "      be    categorized, such as Yes or No, or Pass or Fail. Classification Models are used to predict the category \n",
    "      of the data. Real-life examples include spam detection, sentiment analysis, scorecard prediction of exams,\n",
    "      etc.\n",
    "\n",
    "      Regression Models – Regression models are used for problems where the output variable is a real value such \n",
    "      as a unique number, dollars, salary, weight or pressure, for example. It is most often used to predict \n",
    "      numerical values based on previous data observations. Some of the more familiar regression algorithms \n",
    "      include linear regression, logistic regression, polynomial regression, and ridge regression."
   ]
  },
  {
   "cell_type": "code",
   "execution_count": null,
   "id": "5b62c935",
   "metadata": {},
   "outputs": [],
   "source": []
  }
 ],
 "metadata": {
  "kernelspec": {
   "display_name": "Python 3 (ipykernel)",
   "language": "python",
   "name": "python3"
  },
  "language_info": {
   "codemirror_mode": {
    "name": "ipython",
    "version": 3
   },
   "file_extension": ".py",
   "mimetype": "text/x-python",
   "name": "python",
   "nbconvert_exporter": "python",
   "pygments_lexer": "ipython3",
   "version": "3.9.7"
  }
 },
 "nbformat": 4,
 "nbformat_minor": 5
}
