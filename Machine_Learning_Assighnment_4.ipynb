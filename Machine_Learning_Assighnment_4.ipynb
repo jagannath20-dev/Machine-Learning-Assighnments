{
 "cells": [
  {
   "cell_type": "markdown",
   "id": "c9248375",
   "metadata": {},
   "source": [
    "1. What are the key tasks involved in getting ready to work with machine learning modeling?"
   ]
  },
  {
   "cell_type": "markdown",
   "id": "6270ac19",
   "metadata": {},
   "source": [
    "Answer  :\n",
    "    \n",
    "     The Key Tasks involved in getting ready to work with Machine learning Modelling are:\n",
    "\n",
    "       1.Data collection: Defining the problem and assembling a dataset.\n",
    "       2.Data preparation: Preparing your data.\n",
    "       3.Choosing a Model\n",
    "       4.Training the Model: Developing a model that does better than a baseline.\n",
    "       5.Evaluating the Model: Choosing a measure of success. Deciding on an evaluation protocol.\n",
    "       6.Parameter tuning: Scaling up: developing a model that overfits.Regularizing your model and tuning          \n",
    "         your   parameters.\n",
    "       7.Prediction or Inference   "
   ]
  },
  {
   "cell_type": "markdown",
   "id": "6d005439",
   "metadata": {},
   "source": [
    "2. What are the different forms of data used in machine learning? Give a specific example for each of them."
   ]
  },
  {
   "cell_type": "markdown",
   "id": "0a55519a",
   "metadata": {},
   "source": [
    "Answer  :\n",
    "    \n",
    "    Most data can be categorized into 4 basic types from a Machine Learning perspective: Numerical Data, \n",
    "    Categorical Data, Time-Series Data, and Text data.\n",
    "    \n",
    "Numerical Data  :\n",
    "    \n",
    "          Numerical data is any data where data points are exact numbers. Statisticians also might call \n",
    "          numerical data, quantitative data. This data has meaning as a measurement such as house prices or as \n",
    "          a count, such as a number of residential properties in Los Angeles or how many houses sold in the past year.\n",
    "\n",
    "         Numerical data can be characterized by continuous or discrete data. Continuous data can assume any \n",
    "         value within a range whereas discrete data has distinct values.\n",
    "\n",
    "For example :\n",
    "      \n",
    "      The number of students taking Python class would be a discrete data set. You can only have discrete whole \n",
    "      number values like 10, 25, or 33. A class cannot have 12.75 students enrolled. A student either join a class \n",
    "      or he doesn’t. On the other hand, continuous data are numbers that can fall anywhere within a range. Like \n",
    "      a student could have an average score of 88.25 which falls between 0 and 100.\n",
    "      The takeaway here is that numerical data is not ordered in time. They are just numbers that we have collected.\n",
    "\n",
    "Categorical Data  :\n",
    "\n",
    "      Categorical data represents characteristics, such as a hockey player’s position, team, hometown. \n",
    "      Categorical data can take numerical values. For example, maybe we would use 1 for the colour red and 2 for \n",
    "      blue. But these numbers don’t have a mathematical meaning. That is, we can’t add them together or take \n",
    "      the average.\n",
    "\n",
    "      In the context of super classification, categorical data would be the class label. This would also be \n",
    "      something like if a person is a man or woman, or property is residential or commercial.\n",
    "\n",
    "     There is also something called ordinal data, which in some sense is a mix of numerical and categorical data. \n",
    "     In ordinal data, the data still falls into categories, but those categories are ordered or ranked in \n",
    "     some particular way. An example would be class difficulty, such as beginner, intermediate, and advanced. \n",
    "     Those three types of classes would be a way that we could label the classes, and they have a natural order \n",
    "     in increasing difficulty.\n",
    "\n",
    "Time Series Data :\n",
    "\n",
    "     Time series data is a sequence of numbers collected at regular intervals over some period of time. It is \n",
    "     very important, especially in particular fields like finance. Time series data has a temporal value attached \n",
    "     to it, so this would be something like a date or a timestamp that you can look for trends in time.\n",
    "\n",
    "For example :\n",
    "     \n",
    "     we might measure the average number of home sales for many years. The difference of time series data and\n",
    "     numerical data is that rather than having a bunch of numerical values that don’t have any time ordering, \n",
    "     time-series data does have some implied ordering. There is a first data point collected and the last data\n",
    "     point collected.\n",
    "Text  :\n",
    " \n",
    "     Text data is basically just words. A lot of the time the first thing that you do with text is you turn it \n",
    "     into numbers using some interesting functions like the bag of words formulation.\n",
    "     These are four types of data from a Machine Learning perspective. Depending on exactly the type of data, \n",
    "     this might have some repercussions for the type of algorithms that you can use for feature engineering \n",
    "     and modeling"
   ]
  },
  {
   "cell_type": "markdown",
   "id": "85e9a11e",
   "metadata": {},
   "source": [
    "3. Distinguish:\n",
    "\n",
    "   1. Numeric vs. categorical attributes\n",
    "\n",
    "   2. Feature selection vs. dimensionality reduction"
   ]
  },
  {
   "cell_type": "markdown",
   "id": "7c030f85",
   "metadata": {},
   "source": [
    "Answer  :\n",
    "\n",
    "Numeric vs. categorical attributes:\n",
    "\n",
    "    Numerical data are values obtained for quantitative variable, and carries a sense of magnitude related to \n",
    "    the context of the variable (hence, they are always numbers or symbols carrying a numerical value).\n",
    "    Categorical data are values obtained for a qualitative variable. categorical data numbers do not carry a sense \n",
    "    of magnitude.\n",
    "    Numerical data always belong to either ordinal, ratio, or interval type, whereas categorical data belong \n",
    "    to nominal type. - - Methods used to analyse quantitative data are different from the methods used for \n",
    "    categorical data, even if the principles are the same at least the application has significant differences.\n",
    "    Numerical data are analysed using statistical methods in descriptive statistics, regression, time series and \n",
    "    many more.For categorical data usually descriptive methods and graphical methods are employed. Some \n",
    "    non-parametric tests are also used.\n",
    "Feature selection vs. dimensionality reduction\n",
    "\n",
    "    Feature selection you just select a subset of the original feature set, without any manipulation of the data\n",
    "    on the other hand.\n",
    "    Dimensionality reduction is typically choosing a new representation within which you can describe most but not \n",
    "    all of the variance within your data, thereby retaining the relevant information, while reducing theamount\n",
    "    of information necessary to represent it."
   ]
  },
  {
   "cell_type": "raw",
   "id": "7050f1a0",
   "metadata": {},
   "source": [
    "# 4. Make quick notes on any two of the following:\n",
    "\n",
    "            1. The histogram\n",
    "\n",
    "             2. Use a scatter plot\n",
    "\n",
    "              3.PCA (Personal Computer Aid)"
   ]
  },
  {
   "cell_type": "markdown",
   "id": "33067cd2",
   "metadata": {},
   "source": [
    "Answer  :\n",
    "    \n",
    "Histogram  :\n",
    "          \n",
    "        A histogram[1] is used to summarize discrete or continuous data. In other words, it provides a \n",
    "        visual interpretation of numerical data by showing the number of data points that fall within a \n",
    "        specified range of values (called “bins”). It is similar to a vertical bar graph.\n",
    "        \n",
    "Use a Scatter plot :\n",
    "\n",
    "       Use a scatter plot: A scatter plot (aka scatter chart, scatter graph) uses dots to represent values for \n",
    "       two different numeric variables. The position of each dot on the horizontal and vertical axis indicates \n",
    "       values for an individual data point. Scatter plots are used to observe relationships between variables.\n",
    "\n",
    "PCA (Personal Computer Aid): \n",
    "\n",
    "      Principal Component Analysis or PCA is a widely used technique for dimensionality reduction of the large \n",
    "      data set. Reducing the number of components or features costs some accuracy and on the other hand, it makes \n",
    "      the large data set simpler, easy to explore and visualize."
   ]
  },
  {
   "cell_type": "markdown",
   "id": "c021fbe3",
   "metadata": {},
   "source": [
    "5. Why is it necessary to investigate data? Is there a discrepancy in how qualitative and quantitative data are explored?"
   ]
  },
  {
   "cell_type": "markdown",
   "id": "7e52cf46",
   "metadata": {},
   "source": [
    "Answer  :\n",
    "\n",
    "     If your data set is messy, building models will not help you to solve your problem. What will happen is \n",
    "     Garbage In, Garbage Out. In order to build a powerful machine learning algorithm. We need to explore and \n",
    "     understand our data set before we define a predictive task and solve it."
   ]
  },
  {
   "cell_type": "markdown",
   "id": "094b925b",
   "metadata": {},
   "source": [
    "6. What are the various histogram shapes? What exactly are ‘bins'?"
   ]
  },
  {
   "cell_type": "markdown",
   "id": "139e3eb4",
   "metadata": {},
   "source": [
    "Answer  :\n",
    "    \n",
    "The different types of a Histogram are:\n",
    "\n",
    "   1. Uniform Histogram\n",
    "   2. Symmetric Histogram\n",
    "   3. Bimodal Histogram\n",
    "   4. Probability Histogram.\n",
    "   \n",
    "    The bin in a histogram is the choice of unit and spacing on the X-axis. All the data in a probability \n",
    "    distribution represented visually by a histogram is filled into the corresponding bins. The height of each bin \n",
    "    is a measurement of the frequency with which data appears inside the range of that bin in the distribution."
   ]
  },
  {
   "cell_type": "markdown",
   "id": "9dfcd4e2",
   "metadata": {},
   "source": [
    "7. How do we deal with data outliers?"
   ]
  },
  {
   "cell_type": "markdown",
   "id": "0fb68cb1",
   "metadata": {},
   "source": [
    "Answer  :\n",
    "\n",
    "     We can use Z-Score or any of below methods to deal with data outliers:\n",
    "\n",
    "Univariate Method: \n",
    "    \n",
    "    This method looks for data points with extreme values on one variable.\n",
    "\n",
    "Multivariate Method: Here, we look for unusual combinations of all the variables.\n",
    "\n",
    "Minkowski Error: This method reduces the contribution of potential outliers in the training process.\n",
    "\n",
    "Z-Score:  \n",
    " \n",
    "     This can be done with just one line code as we have already calculated the Z-score.\n",
    "     boston_df_o = boston_df_o[(z < 3).all(axis=1)]\n",
    "\n",
    "IQR Score: \n",
    "\n",
    "    Calculate IQR score to filter out the outliers by keeping only valid values.\n",
    "boston_df_out = boston_df_o1[~((boston_df_o1 < (Q1 - 1.5 * IQR)) |(boston_df_o1 > (Q3 + 1.5 *IQR))).any(axis=1)]\n",
    "boston_df_out.shape"
   ]
  },
  {
   "cell_type": "markdown",
   "id": "b1766eb3",
   "metadata": {},
   "source": [
    "8. What are the various central inclination measures? Why does mean vary too much from median in certain data sets?"
   ]
  },
  {
   "cell_type": "markdown",
   "id": "72afba63",
   "metadata": {},
   "source": [
    "Answer  : \n",
    "\n",
    "     Mean, Median and Mode are Central Inclination Measures. Mean varies more than Median due to presence of \n",
    "     outliers, as mean is averaging all points while median in like finding a middle number."
   ]
  },
  {
   "cell_type": "markdown",
   "id": "07ea7218",
   "metadata": {},
   "source": [
    "9. Describe how a scatter plot can be used to investigate bivariate relationships. Is it possible to find outliers using a scatter plot?"
   ]
  },
  {
   "cell_type": "markdown",
   "id": "2fdb9534",
   "metadata": {},
   "source": [
    "Answer  : \n",
    "\n",
    "    A Scatter Plot (aka scatter chart, scatter graph) uses dots to represent values for two different numeric \n",
    "    variables. The position of each dot on the horizontal and vertical axis indicates values for an individual data \n",
    "    point. So this visualization gives us the idea of bivariate relationship."
   ]
  },
  {
   "cell_type": "markdown",
   "id": "1b9ad74f",
   "metadata": {},
   "source": [
    "10. Describe how cross-tabs can be used to figure out how two variables are related."
   ]
  },
  {
   "cell_type": "markdown",
   "id": "3b43660d",
   "metadata": {},
   "source": [
    "Answer  :\n",
    "\n",
    "     Cross tabulation is a method to quantitatively analyze the relationship between multiple variables. Also known \n",
    "     as contingency tables or cross tabs, cross tabulation groups variables to understand the correlation between \n",
    "     different variables. It also shows how correlations change from one variable grouping to another."
   ]
  },
  {
   "cell_type": "code",
   "execution_count": null,
   "id": "79ab3f3f",
   "metadata": {},
   "outputs": [],
   "source": []
  }
 ],
 "metadata": {
  "kernelspec": {
   "display_name": "Python 3 (ipykernel)",
   "language": "python",
   "name": "python3"
  },
  "language_info": {
   "codemirror_mode": {
    "name": "ipython",
    "version": 3
   },
   "file_extension": ".py",
   "mimetype": "text/x-python",
   "name": "python",
   "nbconvert_exporter": "python",
   "pygments_lexer": "ipython3",
   "version": "3.9.7"
  }
 },
 "nbformat": 4,
 "nbformat_minor": 5
}
