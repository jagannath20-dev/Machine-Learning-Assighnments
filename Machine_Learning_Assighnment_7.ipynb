{
 "cells": [
  {
   "cell_type": "markdown",
   "id": "d42c7bac",
   "metadata": {},
   "source": [
    "1. What is the definition of a target function? In the sense of a real-life example, express the target function. How is a target function's fitness assessed?"
   ]
  },
  {
   "cell_type": "markdown",
   "id": "3ea24b10",
   "metadata": {},
   "source": [
    "Answer :\n",
    "    \n",
    "    A target function, in machine learning, is a method for solving a problem that an AI algorithm parses its \n",
    "    training data to find.The target function is essentially the formula that an algorithm feeds data to in order \n",
    "    to calculate predictions.\n",
    "\n",
    "    Analyzing the massive amounts of data related to its given problem, an AI derives understanding of previously\n",
    "    unspecified rules by detecting consistencies in the data. The observations of inherent rules about how the\n",
    "    studied subject operates inform the AI on how to process future data that does not include an output by \n",
    "    applying this previously unknown function."
   ]
  },
  {
   "cell_type": "markdown",
   "id": "c27f3347",
   "metadata": {},
   "source": [
    "2. What are predictive models, and how do they work? What are descriptive types, and how do you use them? Examples of both types of models should be provided. Distinguish between these two forms of models."
   ]
  },
  {
   "cell_type": "markdown",
   "id": "302175a0",
   "metadata": {},
   "source": [
    "Answer : \n",
    "\n",
    "    Predictive modeling is a statistical technique using machine learning and data mining to predict and forecast \n",
    "    likely future outcomes with the aid of historical and existing data.\n",
    "\n",
    "    It works by analyzing current and historical data and projecting what it learns on a model generated to \n",
    "    forecast likely outcomes.\n",
    "\n",
    "    The three main types of descriptive studies are Case studies, Naturalistic observation, and Surveys.\n",
    "\n",
    "    Some examples of descriptive research are: A specialty food group launching a new range of barbecue rubs \n",
    "    would like to understand what flavors of rubs are favored by different people.\n",
    "\n",
    "    Case Studies are a type of observational research that involve a thorough descriptive analysis of a single\n",
    "    individual, group, or event. There is no single way to conduct a case study so researchers use a range of\n",
    "    methods from unstructured interviewing to direct observation."
   ]
  },
  {
   "cell_type": "markdown",
   "id": "76ca3caf",
   "metadata": {},
   "source": [
    "3. Describe the method of assessing a classification model's efficiency in detail. Describe the various measurement parameters."
   ]
  },
  {
   "cell_type": "markdown",
   "id": "0a09775c",
   "metadata": {},
   "source": [
    "Answer  : \n",
    "\n",
    "     Logarithmic loss (or log loss) measures the performance of a classification model where the prediction is a \n",
    "     probability value between 0 and 1.\n",
    "\n",
    "     Log loss increases as the predicted probability diverge from the actual label. Log loss is a widely used \n",
    "     metric for Kaggle competitions. Input on the most important basics for the measurement of the physical\n",
    "     parameters: Temperature, flow velocity, humidity, pressure, CO2 and infrared. Tips on correct measurement \n",
    "     and for avoiding measurement errors."
   ]
  },
  {
   "cell_type": "markdown",
   "id": "3c572406",
   "metadata": {},
   "source": [
    "4. \n",
    "      i. In the sense of machine learning models, what is underfitting? What is the most common reason for \n",
    "      underfitting?\n",
    "      \n",
    "     ii. What does it mean to overfit? When is it going to happen?\n",
    "     \n",
    "    iii. In the sense of model fitting, explain the bias-variance trade-off."
   ]
  },
  {
   "cell_type": "markdown",
   "id": "d8cdd44a",
   "metadata": {},
   "source": [
    "Answer  :\n",
    "\n",
    "    In the sense of machine learning models, what is underfitting? What is the most common reason for underfitting:\n",
    "\n",
    "    Underfitting is a scenario in data science where a data model is unable to capture the relationship between\n",
    "    the input and output variables accurately, generating a high error rate on both the training set and unseen data.\n",
    "\n",
    "What does it mean to overfit? When is it going to happen\n",
    "\n",
    "    Overfitting happens when a model learns the detail and noise in the training data to the extent that it \n",
    "    negatively    impacts the performance of the model on new data. This means that the noise or random \n",
    "    fluctuations in the training data is picked up and learned as concepts by the model.\n",
    "\n",
    "In the sense of model fitting, explain the bias-variance trade-off\n",
    "\n",
    "   The bias is known as the difference between the prediction of the values by the ML model and the correct value.\n",
    "   Being high in biasing gives a large error in training as well as testing data. By high bias, the data predicted\n",
    "   is in a straight line format, thus not fitting accurately in the data in the data set."
   ]
  },
  {
   "cell_type": "markdown",
   "id": "6fecb64c",
   "metadata": {},
   "source": [
    "5. Is it possible to boost the efficiency of a learning model? If so, please clarify how."
   ]
  },
  {
   "cell_type": "markdown",
   "id": "f8993fd9",
   "metadata": {},
   "source": [
    "Answer  :\n",
    "    \n",
    "     Building a machine learning model is not enough to get the right predictions, as you have to check the \n",
    "     accuracy and need to validate the same to ensure get the precise results. And validating the model will \n",
    "     improve the performance of the ML model."
   ]
  },
  {
   "cell_type": "markdown",
   "id": "789c4b46",
   "metadata": {},
   "source": [
    "6. How would you rate an unsupervised learning model's success? What are the most common success indicators for an unsupervised learning model?"
   ]
  },
  {
   "cell_type": "markdown",
   "id": "b96d5e45",
   "metadata": {},
   "source": [
    "Answer  :\n",
    "    \n",
    "     In case of supervised learning, it is mostly done by measuring the performance metrics such as accuracy, \n",
    "     precision, recall, AUC, etc. on the training set and the holdout sets.\n",
    "\n",
    "Few examples of such measures are:\n",
    "\n",
    "    Silhouette coefficient.\n",
    "    Calisnki-Harabasz coefficient.\n",
    "    Dunn index.\n",
    "    Xie-Beni score.\n",
    "    Hartigan index."
   ]
  },
  {
   "cell_type": "markdown",
   "id": "b8fc2f82",
   "metadata": {},
   "source": [
    "7. Is it possible to use a classification model for numerical data or a regression model for categorical data with a classification model? Explain your answer."
   ]
  },
  {
   "cell_type": "markdown",
   "id": "860245fa",
   "metadata": {},
   "source": [
    "Answer  :\n",
    "    \n",
    "        Categorical Data is the data that generally takes a limited number of possible values. Also, the data in \n",
    "        the category need not be numerical, it can be textual in nature. All machine learning models are some \n",
    "        kind of mathematical model that need numbers to work with. This is one of the primary reasons we need to \n",
    "        pre-process the categorical data before we can feed it to machine learning models.\n",
    "\n",
    "        If a categorical target variable needs to be encoded for a classification predictive modeling problem,\n",
    "        then the LabelEncoder class can be used."
   ]
  },
  {
   "cell_type": "markdown",
   "id": "ee761425",
   "metadata": {},
   "source": [
    "8. Describe the predictive modeling method for numerical values. What distinguishes it from categorical predictive modeling?"
   ]
  },
  {
   "cell_type": "markdown",
   "id": "6aa29956",
   "metadata": {},
   "source": [
    "Answer  :\n",
    "    \n",
    "         predictive modeling is a statistical technique using machine learning and data mining to predict and\n",
    "         forecast likely future outcomes with the aid of historical and existing data. It works by analyzing\n",
    "         current and historical data and projecting what it learns on a model generated to forecast likely \n",
    "         outcomes.\n",
    "\n",
    "         Classification is the process of identifying the category or class label of the new observation to which\n",
    "         it belongs.Predication is the process of identifying the missing or unavailable numerical data for a new\n",
    "         observation. That is the key difference between classification and prediction."
   ]
  },
  {
   "cell_type": "markdown",
   "id": "41be738e",
   "metadata": {},
   "source": [
    "9. Make quick notes on:\n",
    "         1. The process of holding out\n",
    "         2. Cross-validation by tenfold\n",
    "         3. Adjusting the parameters"
   ]
  },
  {
   "cell_type": "markdown",
   "id": "1695da08",
   "metadata": {},
   "source": [
    "Answer  :\n",
    "    \n",
    "     The process of holding out:\n",
    "    The hold-out method for training machine learning model is the process of splitting the data in different \n",
    "    splits and using one split for training the model and other splits for validating and testing the models.\n",
    "    The hold-out method is used for both model evaluation and model selection.\n",
    "    \n",
    "Cross-validation by tenfold: \n",
    "\n",
    "    10-fold cross validation would perform the fitting procedure a total of ten times, with each fit being \n",
    "    performed on a training set consisting of 90% of the total training set selected at random, with the \n",
    "    remaining 10% used as a hold out set for validation.\n",
    "    \n",
    "Adjusting the parameters:\n",
    "\n",
    "    A fancy name for training: the selection of parameter values, which are optimal in some desired sense \n",
    "    (eg. minimize an objective function you choose over a dataset you choose). The parameters are the weights and \n",
    "    biases of the network"
   ]
  },
  {
   "cell_type": "markdown",
   "id": "e129c26b",
   "metadata": {},
   "source": [
    "10. Define the following terms: \n",
    "         1. Purity vs. Silhouette width\n",
    "         2. Boosting vs. Bagging\n",
    "         3. The eager learner vs. the lazy learner"
   ]
  },
  {
   "cell_type": "markdown",
   "id": "6bfe30a1",
   "metadata": {},
   "source": [
    "Answer  :\n",
    "    \n",
    "    Purity vs Silhouette width:\n",
    "\n",
    "    Purity is a measure of the extent to which clusters contain a single class. Its calculation can be thought \n",
    "    of as follows: For each cluster, count the number of data points from the most common class in said cluster.\n",
    "    The silhouette width is also an estimate of the average distance between clusters. Its value is comprised \n",
    "    between 1 and -1 with a value of 1 indicating a very good cluster.\n",
    "    \n",
    "Boosting vs. Bagging:\n",
    "\n",
    "    Bagging is a way to decrease the variance in the prediction by generating additional data for training from \n",
    "    dataset using combinations with repetitions to produce multi-sets of the original data.\n",
    "    Boosting is an iterative technique which adjusts the weight of an observation based on the last classification.\n",
    "\n",
    "The eager learner vs. the lazy learner:\n",
    "\n",
    "    A lazy learner delays abstracting from the data until it is asked to make a prediction.\n",
    "    while an eager learner abstracts away from the data during training and uses this abstraction to make\n",
    "    predictions rather than directly compare queries with instances in the dataset."
   ]
  },
  {
   "cell_type": "code",
   "execution_count": null,
   "id": "e5de77ec",
   "metadata": {},
   "outputs": [],
   "source": []
  }
 ],
 "metadata": {
  "kernelspec": {
   "display_name": "Python 3 (ipykernel)",
   "language": "python",
   "name": "python3"
  },
  "language_info": {
   "codemirror_mode": {
    "name": "ipython",
    "version": 3
   },
   "file_extension": ".py",
   "mimetype": "text/x-python",
   "name": "python",
   "nbconvert_exporter": "python",
   "pygments_lexer": "ipython3",
   "version": "3.9.12"
  }
 },
 "nbformat": 4,
 "nbformat_minor": 5
}
