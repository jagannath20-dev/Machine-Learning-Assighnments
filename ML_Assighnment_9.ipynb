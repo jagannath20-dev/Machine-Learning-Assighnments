{
 "cells": [
  {
   "cell_type": "markdown",
   "id": "30f49ac4",
   "metadata": {},
   "source": [
    "1. What is feature engineering, and how does it work? Explain the various aspects of feature engineering in depth."
   ]
  },
  {
   "cell_type": "markdown",
   "id": "0676fe08",
   "metadata": {},
   "source": [
    "Answer  :\n",
    "\n",
    "     Ans: Feature engineering is the process of selecting, manipulating, and transforming raw data into features \n",
    "     that can be used in supervised learning. In order to make machine learning work well on new tasks, it might\n",
    "     be necessary to design and train better features.\n",
    "\n",
    "Feature engineering in ML consists of four main steps: \n",
    "\n",
    "     Feature Creation, Transformations, Feature Extraction, and Feature Selection. Feature engineering consists \n",
    "     of creation, transformation, extraction, and selection of features, also known as variables, that are most \n",
    "     conducive to creating an accurate ML algorithm."
   ]
  },
  {
   "cell_type": "markdown",
   "id": "af1b1fe3",
   "metadata": {},
   "source": [
    "2. What is feature selection, and how does it work? What is the aim of it? What are the various methods of function selection?"
   ]
  },
  {
   "cell_type": "markdown",
   "id": "26c417bd",
   "metadata": {},
   "source": [
    "Answer  :\n",
    "\n",
    "    Feature Selection is the process where you automatically or manually select those features which contribute\n",
    "    most to your prediction variable or output in which you are interested in. Having irrelevant features in your\n",
    "    data can decrease the accuracy of the models and make your model learn based on irrelevant features.\n",
    "\n",
    "There are three types of feature selection:\n",
    "\n",
    "    Wrapper methods (forward, backward, and stepwise selection)\n",
    "    Filter methods (ANOVA, Pearson correlation, variance thresholding)\n",
    "    Embedded methods (Lasso, Ridge, Decision Tree)."
   ]
  },
  {
   "cell_type": "markdown",
   "id": "4620c078",
   "metadata": {},
   "source": [
    "3. Describe the function selection filter and wrapper approaches. State the pros and cons of each approach?"
   ]
  },
  {
   "cell_type": "markdown",
   "id": "71b600bf",
   "metadata": {},
   "source": [
    "Answer  :\n",
    "    \n",
    "     The main differences between the filter and wrapper methods for feature selection are: Filter methods measure\n",
    "     the relevance of features by their correlation with dependent variable while wrapper methods measure the \n",
    "     usefulness of a subset of feature by actually training a model on it.\n",
    "\n",
    "    The filter method has the fastest running time, however, it does not consider feature dependencies and tends\n",
    "    to each feature separately when univariate techniques are used. The wrapper method has the advantages of \n",
    "    better generalization and robust interaction with the classifier used for feature selection"
   ]
  },
  {
   "cell_type": "markdown",
   "id": "92f988f5",
   "metadata": {},
   "source": [
    "\n",
    "4.\n",
    "\n",
    "i. Describe the overall feature selection process.\n",
    "\n",
    "ii. Explain the key underlying principle of feature extraction using an example. What are the most widely used function extraction algorithms?"
   ]
  },
  {
   "cell_type": "markdown",
   "id": "4c2b0b8c",
   "metadata": {},
   "source": [
    "Answer  : \n",
    "\n",
    "     Feature selection is the process of reducing the number of input variables when developing a predictive model.\n",
    "     It is desirable to reduce the number of input variables to both reduce the computational cost of modeling and,\n",
    "     in some cases, to improve the performance of the model."
   ]
  },
  {
   "cell_type": "markdown",
   "id": "b7e4d264",
   "metadata": {},
   "source": [
    "5. Describe the feature engineering process in the sense of a text categorization issue."
   ]
  },
  {
   "cell_type": "markdown",
   "id": "48afeb57",
   "metadata": {},
   "source": [
    "Answer  :\n",
    "\n",
    "    Text classification is the problem of assigning categories to text data according to its content. The most \n",
    "    important part of text classification is feature engineering: the process of creating features for a machine\n",
    "    learning model from raw text data."
   ]
  },
  {
   "cell_type": "markdown",
   "id": "d92e8804",
   "metadata": {},
   "source": [
    "6. What makes cosine similarity a good metric for text categorization? A document-term matrix has two rows with values of (2, 3, 2, 0, 2, 3, 3, 0, 1) and (2, 1, 0, 0, 3, 2, 1, 3, 1). Find the resemblance in cosine."
   ]
  },
  {
   "cell_type": "markdown",
   "id": "0aa56339",
   "metadata": {},
   "source": [
    "Answer  :\n",
    "    \n",
    "      Cosine similarity is a metric used to measure how similar the documents are irrespective of their size.\n",
    "      The cosine similarity is advantageous because even if the two similar documents are far apart by the \n",
    "      Euclidean distance (due to the size of the document), chances are they may still be oriented closer together.\n",
    "\n",
    "      Cosine similarity is the cosine of the angle between two n-dimensional vectors in an n-dimensional space.\n",
    "      It is the dot product of the two vectors divided by the product of the two vectors' lengths (or magnitudes)."
   ]
  },
  {
   "cell_type": "markdown",
   "id": "c17d820c",
   "metadata": {},
   "source": [
    "7.\n",
    "\n",
    "i. What is the formula for calculating Hamming distance? Between 10001011 and 11001111, calculate the Hamming gap.\n",
    "\n",
    "ii. Compare the Jaccard index and similarity matching coefficient of two features with values (1, 1, 0, 0, 1, 0, 1, 1) and (1, 1, 0, 0, 0, 1, 1, 1), respectively (1, 0, 0, 1, 1, 0, 0, 1)."
   ]
  },
  {
   "cell_type": "markdown",
   "id": "e4fa2ff9",
   "metadata": {},
   "source": [
    "Answer  : \n",
    "    \n",
    "    Thus the Hamming distance between two vectors is the number of bits we must change to change one into the \n",
    "    other. Example Find the distance between the vectors 01101010 and 11011011. They differ in four places, so\n",
    "    the Hamming distance d(01101010,11011011) = 4."
   ]
  },
  {
   "cell_type": "markdown",
   "id": "e53e9b0a",
   "metadata": {},
   "source": [
    "8. State what is meant by  \"high-dimensional data set\"? Could you offer a few real-life examples? What are the difficulties in using machine learning techniques on a data set with many dimensions? What can be done about it?"
   ]
  },
  {
   "cell_type": "markdown",
   "id": "af8c4986",
   "metadata": {},
   "source": [
    "Answer  :\n",
    "\n",
    "        High dimension is when variable numbers p is higher than the sample sizes n i.e. p>n, cases. High \n",
    "        dimensional data is referred to a data of n samples with p features, where p is larger than n.\n",
    "\n",
    "        For example, tomographic imaging data, ECG data, and MEG data. One example of high dimensional data is\n",
    "        microarray gene expression data."
   ]
  },
  {
   "cell_type": "markdown",
   "id": "86eb8cbe",
   "metadata": {},
   "source": [
    "9. Make a few quick notes on:\n",
    "\n",
    "PCA is an acronym for Personal Computer Analysis.\n",
    "\n",
    "Use of vectors\n",
    "\n",
    "Embedded technique"
   ]
  },
  {
   "cell_type": "markdown",
   "id": "f2374064",
   "metadata": {},
   "source": [
    "Answer  :\n",
    "    \n",
    "      The Principal component analysis (PCA) is a technique used for identification of a smaller number of \n",
    "      uncorrelated variables known as principal components from a larger set of data. The technique is widely \n",
    "      used to emphasize variation and capture strong patterns in a data set.\n",
    "\n",
    "     Vectors can be used to represent physical quantities. Most commonly in physics, vectors are used to\n",
    "     represent displacement, velocity, and acceleration. Vectors are a combination of magnitude and direction, \n",
    "     and are drawn as arrows\n",
    "\n",
    "     In the context of machine learning, an embedding is a low-dimensional, learned continuous vector \n",
    "     representation of discrete variables into which you can translate high-dimensional vectors. Generally, \n",
    "     embeddings make ML models more efficient and easier to work with, and can be used with other models as well"
   ]
  },
  {
   "cell_type": "markdown",
   "id": "be118b7b",
   "metadata": {},
   "source": [
    "10. Make a comparison between:\n",
    "\n",
    "Sequential backward exclusion vs. sequential forward selection\n",
    "\n",
    "Function selection methods: filter vs. wrapper\n",
    "\n",
    "SMC vs. Jaccard coefficient"
   ]
  },
  {
   "cell_type": "markdown",
   "id": "dad7566d",
   "metadata": {},
   "source": [
    "Answer  :\n",
    "\n",
    "    Sequential floating forward selection (SFFS) starts from the empty set. After each forward step, SFFS performs\n",
    "    backward steps as long as the objective function increases. Sequential floating backward selection (SFBS) \n",
    "    starts from the full set.\n",
    "\n",
    "    The Jaccard coefficient is a measure of the percentage of overlap between sets defined as: (5.1) where W1 \n",
    "    and W2 are two sets, in our case the 1-year windows of the ego networks. The Jaccard coefficient can be a \n",
    "    value between 0 and 1, with 0 indicating no overlap and 1 complete overlap between the sets."
   ]
  },
  {
   "cell_type": "code",
   "execution_count": null,
   "id": "c7d08e0f",
   "metadata": {},
   "outputs": [],
   "source": []
  }
 ],
 "metadata": {
  "kernelspec": {
   "display_name": "Python 3 (ipykernel)",
   "language": "python",
   "name": "python3"
  },
  "language_info": {
   "codemirror_mode": {
    "name": "ipython",
    "version": 3
   },
   "file_extension": ".py",
   "mimetype": "text/x-python",
   "name": "python",
   "nbconvert_exporter": "python",
   "pygments_lexer": "ipython3",
   "version": "3.9.12"
  }
 },
 "nbformat": 4,
 "nbformat_minor": 5
}
