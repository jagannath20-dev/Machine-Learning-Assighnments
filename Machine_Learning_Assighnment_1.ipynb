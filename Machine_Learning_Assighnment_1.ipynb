{
 "cells": [
  {
   "cell_type": "markdown",
   "id": "798e49cc",
   "metadata": {},
   "source": [
    "1. What does one mean by the term \"machine learning\"?"
   ]
  },
  {
   "cell_type": "markdown",
   "id": "eb395785",
   "metadata": {},
   "source": [
    "Answer  :\n",
    "    \n",
    "        Machine Learning is a field of artificial intelligence(AI) and computer science which focuses on the use \n",
    "        of data and algorithms to imitate the way that humans learn, gradually improving its accuracy.\n",
    "        Machine Learning is an application of AI that enables systems to learn and improve from experience\n",
    "        without being explicitly programmed.\n",
    "        Machine Learning focuses on the computer programs that can access data and use it to learn for themselves\n",
    "        from experience."
   ]
  },
  {
   "cell_type": "markdown",
   "id": "450e5c86",
   "metadata": {},
   "source": [
    "2.Can you think of 4 distinct types of issues where it shines?"
   ]
  },
  {
   "cell_type": "markdown",
   "id": "6e824b87",
   "metadata": {},
   "source": [
    "Answer  :\n",
    "    \n",
    "        Machine Learning is great for problems whose solution requires a great deal of work or a long list of \n",
    "        rules,complex problems that are hard to get a solution of using a traditional method,fluctuating\n",
    "        environments and getting insights about complex problems and large data."
   ]
  },
  {
   "cell_type": "markdown",
   "id": "566cad56",
   "metadata": {},
   "source": [
    "3.What is a labeled training set, and how does it work?"
   ]
  },
  {
   "cell_type": "markdown",
   "id": "fb68d421",
   "metadata": {},
   "source": [
    "Answer  :\n",
    "    \n",
    "         Labeled training set is a set of training data and test data which having insights in that data.\n",
    "         we split the data into training dataset and test data set.After splitting the dataset we train the model\n",
    "         using training dataset and test the data to predict outcomes. "
   ]
  },
  {
   "cell_type": "markdown",
   "id": "a71d17f6",
   "metadata": {},
   "source": [
    "4.What are the two most important tasks that are supervised?"
   ]
  },
  {
   "cell_type": "markdown",
   "id": "92ca7ce8",
   "metadata": {},
   "source": [
    "Answer  :\n",
    "    \n",
    "       Two most important tasks of supervised learning is Classification and Regression."
   ]
  },
  {
   "cell_type": "markdown",
   "id": "0942ff24",
   "metadata": {},
   "source": [
    "5.Can you think of four examples of unsupervised tasks?"
   ]
  },
  {
   "cell_type": "markdown",
   "id": "c36d33c4",
   "metadata": {},
   "source": [
    "Answer  :\n",
    "\n",
    "        Four common unsupervised learning techniques inclused Clustering,Visualisation,dimensionality\n",
    "        reduction and association rule learning."
   ]
  },
  {
   "cell_type": "markdown",
   "id": "56ab58cc",
   "metadata": {},
   "source": [
    "6.State the machine learning model that would be best to make a robot walk through various unfamiliar terrains?"
   ]
  },
  {
   "cell_type": "markdown",
   "id": "5c194203",
   "metadata": {},
   "source": [
    "Answer  :\n",
    "    \n",
    "         The best Machine Learning algorithm to allow a robot to walk in unknown terrain is Reinforced Learning,\n",
    "         where the robot can learn from response of the terrain to optimize itself."
   ]
  },
  {
   "cell_type": "markdown",
   "id": "4c097ab3",
   "metadata": {},
   "source": [
    "7.Which algorithm will you use to divide your customers into different groups?"
   ]
  },
  {
   "cell_type": "markdown",
   "id": "f112c52c",
   "metadata": {},
   "source": [
    "Answers  :\n",
    "    \n",
    "        The best algorithm which is used to segment our customers into different groups is k-means clustering.\n",
    "        k-means clustering is an unsupervised learning technique."
   ]
  },
  {
   "cell_type": "markdown",
   "id": "4737470c",
   "metadata": {},
   "source": [
    "8.Will you consider the problem of spam detection to be a supervised or unsupervised learning problem?"
   ]
  },
  {
   "cell_type": "markdown",
   "id": "df5fd12e",
   "metadata": {},
   "source": [
    "Answer  :\n",
    "     \n",
    "        Spam detection problem is considered as supervised learning model because  the dataset contains features \n",
    "        and also labels but in unsupervised learning model doesn't have labels. so, we considered it as \n",
    "        supervised learning problem."
   ]
  },
  {
   "cell_type": "markdown",
   "id": "f0e75010",
   "metadata": {},
   "source": [
    "9.What is the concept of an online learning system?"
   ]
  },
  {
   "cell_type": "markdown",
   "id": "f1f470ed",
   "metadata": {},
   "source": [
    "Answer  :\n",
    "    \n",
    "         Online learning system is a learning system in which the machine learns as data is given in small \n",
    "         streams continuously."
   ]
  },
  {
   "cell_type": "markdown",
   "id": "4cd0bd5e",
   "metadata": {},
   "source": [
    "10.What is out-of-core learning, and how does it differ from core learning?"
   ]
  },
  {
   "cell_type": "markdown",
   "id": "7d8497ec",
   "metadata": {},
   "source": [
    "Answer  :\n",
    "    \n",
    "        Out-of-core learning system is a system that can handle data that cannot fit into your computer memory. \n",
    "        It uses online learning system to feed data in small bits."
   ]
  },
  {
   "cell_type": "markdown",
   "id": "f697dd45",
   "metadata": {},
   "source": [
    "11.What kind of learning algorithm makes predictions using a similarity measure?"
   ]
  },
  {
   "cell_type": "markdown",
   "id": "b651e73f",
   "metadata": {},
   "source": [
    "Answer  :\n",
    "    \n",
    "       Learning algorithm that relies on a similarity measure to make predictions is instance-based algorithm."
   ]
  },
  {
   "cell_type": "markdown",
   "id": "811d7a8d",
   "metadata": {},
   "source": [
    "12.What's the difference between a model parameter and a hyperparameter in a learning algorithm?"
   ]
  },
  {
   "cell_type": "markdown",
   "id": "3cd5f49d",
   "metadata": {},
   "source": [
    "Answer  :\n",
    "    \n",
    "Model Parameters :\n",
    "                  These are the parameters in the model that must be determined using the training dataset.\n",
    "\n",
    "Hyper Paarameters:\n",
    "                  These are the adjustable  parameters that must be used be tuned in order to obtain a model\n",
    "                  with optimal perfomance."
   ]
  },
  {
   "cell_type": "markdown",
   "id": "851dab26",
   "metadata": {},
   "source": [
    "13.What are the criteria that model-based learning algorithms look for? What is the most popular method they use to achieve success? What method do they use to make predictions?"
   ]
  },
  {
   "cell_type": "markdown",
   "id": "616ca12b",
   "metadata": {},
   "source": [
    "Answer  :\n",
    "    \n",
    "        Model based learning algorithm search for the optimal value of parameters in a model that will give the\n",
    "        best results for the new instances. We often use a cost function or similar to determine what the \n",
    "        parameter value has to be in order to minimize the function. The model makes prediction by using the \n",
    "        value of the new instance and the parameters in its function."
   ]
  },
  {
   "cell_type": "markdown",
   "id": "586f3dfd",
   "metadata": {},
   "source": [
    "14.Can you name four of the most important Machine Learning challenges?"
   ]
  },
  {
   "cell_type": "markdown",
   "id": "c4c7e802",
   "metadata": {},
   "source": [
    "Answer  :\n",
    "    \n",
    "        Four main challenges in Machine Learning include overfitting the data (using a model too \n",
    "        complicated),underfitting the data (using a simple model), lacking in data and nonrepresentative data."
   ]
  },
  {
   "cell_type": "markdown",
   "id": "a755ec64",
   "metadata": {},
   "source": [
    "15.What happens if the model performs well on the training data but fails to generalize the results to new situations? Can you think of three different options?"
   ]
  },
  {
   "cell_type": "markdown",
   "id": "b8328d53",
   "metadata": {},
   "source": [
    "Answer  :\n",
    "\n",
    "         If the model performs poorly to new instances, then it has overfit on the training data. To solve this, \n",
    "         we can do any of the following three: get more data, implement a simpler model, or eliminate outliers \n",
    "         or noise from the existing data set."
   ]
  },
  {
   "cell_type": "markdown",
   "id": "03f3f8e6",
   "metadata": {},
   "source": [
    "16.What exactly is a test set, and why would you need one?"
   ]
  },
  {
   "cell_type": "markdown",
   "id": "5e9f8e8e",
   "metadata": {},
   "source": [
    "Answer  :\n",
    "\n",
    "         Test set is a set that you test your model (fit using training data) to see how it performs. Test set \n",
    "         is necessary so that you can determine how good (or bad) your model performs."
   ]
  },
  {
   "cell_type": "markdown",
   "id": "4ab0f3fe",
   "metadata": {},
   "source": [
    "17.What is a validation set's purpose?"
   ]
  },
  {
   "cell_type": "markdown",
   "id": "e585abef",
   "metadata": {},
   "source": [
    "Answer  :\n",
    "\n",
    "       Validation set is a set used to compare between different training models."
   ]
  },
  {
   "cell_type": "markdown",
   "id": "14a616a9",
   "metadata": {},
   "source": [
    "18.What precisely is the train-dev kit, when will you need it, how do you put it to use?"
   ]
  },
  {
   "cell_type": "markdown",
   "id": "21e568a1",
   "metadata": {},
   "source": [
    "Answer  :\n",
    "    \n",
    "       If you tune hyperparameters using the test sets, then it may not perform well on the out-of-sample data \n",
    "       because the model is tuned just for that specific set."
   ]
  },
  {
   "cell_type": "markdown",
   "id": "41327622",
   "metadata": {},
   "source": [
    "19.What could go wrong if you use the test set to tune hyperparameters?"
   ]
  },
  {
   "cell_type": "markdown",
   "id": "5391b911",
   "metadata": {},
   "source": [
    "Answer  :\n",
    "    \n",
    "        Cross-validation is a tool to compare models without needing a separate validation set. It is preferred \n",
    "        over validation set because we can save from breaking of part of the training set to create a validation \n",
    "        set, as having more data is valuable regardless."
   ]
  },
  {
   "cell_type": "code",
   "execution_count": null,
   "id": "18e68173",
   "metadata": {},
   "outputs": [],
   "source": []
  }
 ],
 "metadata": {
  "kernelspec": {
   "display_name": "Python 3 (ipykernel)",
   "language": "python",
   "name": "python3"
  },
  "language_info": {
   "codemirror_mode": {
    "name": "ipython",
    "version": 3
   },
   "file_extension": ".py",
   "mimetype": "text/x-python",
   "name": "python",
   "nbconvert_exporter": "python",
   "pygments_lexer": "ipython3",
   "version": "3.9.7"
  }
 },
 "nbformat": 4,
 "nbformat_minor": 5
}
