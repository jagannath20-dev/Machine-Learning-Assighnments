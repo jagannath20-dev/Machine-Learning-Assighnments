{
 "cells": [
  {
   "cell_type": "markdown",
   "id": "d8d893e7",
   "metadata": {},
   "source": [
    "1. What is the concept of human learning? Please give two examples."
   ]
  },
  {
   "cell_type": "markdown",
   "id": "92566d39",
   "metadata": {},
   "source": [
    "Answer  :\n",
    "\n",
    "        Human Learning is the process of acquiring knowledge. \n",
    "        It is the form of learning which requires higher order mental process like logical thinking,creativity,\n",
    "        intelligence,ethics,emotions etc. we learnt different things from our child.\n",
    "Example :\n",
    "         \n",
    "         Learning through Association - Classical Conditioning.\n",
    "         Learning through consequences – Operant Conditioning.\n",
    "         Learning through observation – Modeling/Observational Learning."
   ]
  },
  {
   "cell_type": "markdown",
   "id": "16188550",
   "metadata": {},
   "source": [
    "2. What different forms of human learning are there? Are there any machine learning equivalents?"
   ]
  },
  {
   "cell_type": "markdown",
   "id": "295530e0",
   "metadata": {},
   "source": [
    "Answer  :\n",
    "    \n",
    "        There are so many different forms of human learning are there we cannot set a limits to human learning.\n",
    "        Whereas in Machine Learning that are equivalent to human learning are Linear Regression, \n",
    "        support vector machines,random forests,decision trees are some commonly used techniques that are\n",
    "        examples of supervised learning."
   ]
  },
  {
   "cell_type": "markdown",
   "id": "eb0ff100",
   "metadata": {},
   "source": [
    "3. What is machine learning, and how does it work? What are the key responsibilities of machine learning?"
   ]
  },
  {
   "cell_type": "markdown",
   "id": "f96ebbc7",
   "metadata": {},
   "source": [
    "Answer  :\n",
    "\n",
    "        Machine Learning is branch of artificial intelligence that teaches computers to act in a similar way\n",
    "        how the humans do.\n",
    "        By the use of machine learning techniques computers learn from the past experience and mimics the \n",
    "        humans without being explictly programmed.\n",
    "\n",
    "Responsbilities of Machine Learning are :\n",
    "\n",
    "        Designing ML systems\n",
    "        Researching and implementing ML Algorthims.\n",
    "        Selecting Approppriate Datasets.\n",
    "        Picking appropriate data representation methods.\n",
    "        Identifying differences in data distributions that affect model perfomance.\n",
    "        Verifying data quality etc"
   ]
  },
  {
   "cell_type": "markdown",
   "id": "2a487bb2",
   "metadata": {},
   "source": [
    "4. Define the terms \"penalty\" and \"reward\" in the context of reinforcement learning."
   ]
  },
  {
   "cell_type": "markdown",
   "id": "b9b1c6f9",
   "metadata": {},
   "source": [
    "Answer  :\n",
    "\n",
    "         A Reinforcement Learning Algorithm acts an agent learnt by interacting with it's environment.\n",
    "         The Agent recieves the reward by performing correctly and punishments for incorrect perfomances.\n",
    "         The Agent learns without intervention from a human by maximizing it's reward and minimising it's penality."
   ]
  },
  {
   "cell_type": "markdown",
   "id": "b6cb1f06",
   "metadata": {},
   "source": [
    "5. Explain the term \"learning as a search\"?"
   ]
  },
  {
   "cell_type": "markdown",
   "id": "797ef609",
   "metadata": {},
   "source": [
    "Answer  :\n",
    "\n",
    "        Learning can be viewed as a search through the space of all sentences in a concept description language\n",
    "        for a sentence describe the data.\n",
    "        Alternatively, it can be viewed as a search through all the hypothesis in a hypothesis space."
   ]
  },
  {
   "cell_type": "markdown",
   "id": "ddde3167",
   "metadata": {},
   "source": [
    "6. What are the various goals of machine learning? What is the relationship between these and human learning?"
   ]
  },
  {
   "cell_type": "markdown",
   "id": "5bef4aeb",
   "metadata": {},
   "source": [
    "Answer  :\n",
    "\n",
    "Goal of Machine Learning :\n",
    "          \n",
    "          The goals of machine learning is closely couples with the goal Ai is to achieve the understanding\n",
    "          about the nature of learning process about the computational aspects of learning behaviour and to \n",
    "          implant the learning capability in computer systems.\n",
    "\n",
    "Relationship between Goals of Ml and human Learning :\n",
    "          \n",
    "          Humans have the ability to learn, however with the progress in artificial intelligence, \n",
    "          machine learning has become a resource which can augment or even replace human learning. \n",
    "          Learning does not happen all at once, but it builds upon and is shaped by previous knowledge."
   ]
  },
  {
   "cell_type": "markdown",
   "id": "4120cbc9",
   "metadata": {},
   "source": [
    "7. Illustrate the various elements of machine learning using a real-life illustration."
   ]
  },
  {
   "cell_type": "markdown",
   "id": "e1fc4345",
   "metadata": {},
   "source": [
    "Answer  :\n",
    "    \n",
    "      The Various elements of the the Machine Learning are:\n",
    "      1.Data\n",
    "      2.Task\n",
    "      3.Model\n",
    "      4.Loss Function\n",
    "      5.Learning Algorithm\n",
    "      6.Evaluation"
   ]
  },
  {
   "cell_type": "markdown",
   "id": "2d7585fa",
   "metadata": {},
   "source": [
    "8. Provide an example of the abstraction method."
   ]
  },
  {
   "cell_type": "markdown",
   "id": "53182f51",
   "metadata": {},
   "source": [
    "Answer  :\n",
    "    \n",
    "       In Machine Learning, Abstraction is supported primarily at the level of modules. This can be justified \n",
    "       in two ways: first, Data abstraction is mostly a question of program interfaces and therefore it \n",
    "       arises naturally at the point where we have to consider program composition and modules."
   ]
  },
  {
   "cell_type": "markdown",
   "id": "779ee80a",
   "metadata": {},
   "source": [
    "9. What is the concept of generalization? What function does it play in the machine learning process?"
   ]
  },
  {
   "cell_type": "markdown",
   "id": "fa5ad40b",
   "metadata": {},
   "source": [
    "Answer  :\n",
    "\n",
    "        Generalization refers to your model's ability to adapt properly to new, previously unseen data, drawn from \n",
    "        the same distribution as the one used to create the model.\n",
    "\n",
    "        In machine learning, generalization is a definition to demonstrate how well is a trained model to classify \n",
    "        or forecast unseen data.This issue can result to classify an actual dog image as a cat from the \n",
    "        unseen dataset. Therefore, data diversity is very important factor in order to make a good prediction."
   ]
  },
  {
   "cell_type": "markdown",
   "id": "a3014374",
   "metadata": {},
   "source": [
    "What is classification, exactly? What are the main distinctions between classification and regression?"
   ]
  },
  {
   "cell_type": "markdown",
   "id": "6d9e0c7f",
   "metadata": {},
   "source": [
    "Answer  :\n",
    "    \n",
    "        The main difference between Regression and Classification algorithms that Regression algorithms are \n",
    "        used to predict the continuous values such as price, salary, age, etc. and Classification algorithms \n",
    "        are used to predict/Classify the discrete values such as Male or Female, True or False, Spam or Not \n",
    "        Spam, etc."
   ]
  },
  {
   "cell_type": "markdown",
   "id": "05b5b64b",
   "metadata": {},
   "source": [
    "11. What is regression, and how does it work? Give an example of a real-world problem that was solved using regression."
   ]
  },
  {
   "cell_type": "markdown",
   "id": "d71fa451",
   "metadata": {},
   "source": [
    "Answer  :\n",
    "    \n",
    "       Regression is a Supervised Machine Learning technique which is used to predict continuous values. \n",
    "       The ultimate goal of a regression algorithm is to plot a best-fit line or a curve between the data.\n",
    "       The three main metrics that are used for evaluating the trained regression model are Variance, Bias \n",
    "       and Error.\n",
    "       A simple linear regression real life example could mean you finding a relationship between the revenue \n",
    "       and temperature, with a sample size for revenue as the dependent variable. In case of multiple \n",
    "       variable regression, you can find the relationship between temperature, pricing and number of workers \n",
    "       to the revenue."
   ]
  },
  {
   "cell_type": "markdown",
   "id": "9ac7043a",
   "metadata": {},
   "source": [
    "12. Describe the clustering mechanism in detail."
   ]
  },
  {
   "cell_type": "markdown",
   "id": "1c945b30",
   "metadata": {},
   "source": [
    "Answer  :\n",
    "    \n",
    "        Clustering is the task of dividing the population or data points into a number of groups such that data \n",
    "        points in the same groups are more similar to other data points in the same group than those in other \n",
    "        groups. In simple words, the aim is to segregate groups with similar traits and assign them into clusters."
   ]
  },
  {
   "cell_type": "markdown",
   "id": "ed61db64",
   "metadata": {},
   "source": [
    "13. Make brief observations on two of the following topics:\n",
    "i. Machine learning algorithms are used \n",
    "ii. Studying under supervision \n",
    "iii. Studying without supervision\n",
    "iv. Reinforcement learning is a form of learning based on positive reinforcement."
   ]
  },
  {
   "cell_type": "markdown",
   "id": "091b84ef",
   "metadata": {},
   "source": [
    "Answer  :\n",
    "    \n",
    "    Machine learning algorithms are used: At its Most basic, Machine Learning uses programmed algorithms that \n",
    "    receive and analyse input data to predict output values within an acceptable range. As new data is fed \n",
    "    to these algorithms, they learn and optimise their operations to improve performance, developing intelligence \n",
    "    over time.\n",
    "\n",
    "    Studying Under Supervision: In machine learning, there are two important categories- Supervised and \n",
    "    Unsupervised learning.Supervised learning, an algorithm learns from a training dataset. We know the \n",
    "    correct answers or desired output, the algorithm makes predictions using the given dataset and is corrected \n",
    "    by the “supervisor”."
   ]
  },
  {
   "cell_type": "code",
   "execution_count": null,
   "id": "e12188ed",
   "metadata": {},
   "outputs": [],
   "source": []
  }
 ],
 "metadata": {
  "kernelspec": {
   "display_name": "Python 3 (ipykernel)",
   "language": "python",
   "name": "python3"
  },
  "language_info": {
   "codemirror_mode": {
    "name": "ipython",
    "version": 3
   },
   "file_extension": ".py",
   "mimetype": "text/x-python",
   "name": "python",
   "nbconvert_exporter": "python",
   "pygments_lexer": "ipython3",
   "version": "3.9.7"
  }
 },
 "nbformat": 4,
 "nbformat_minor": 5
}
