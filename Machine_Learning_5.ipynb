{
 "cells": [
  {
   "cell_type": "markdown",
   "id": "e675e624",
   "metadata": {},
   "source": [
    "1. What are the key tasks that machine learning entails? What does data pre-processing imply?"
   ]
  },
  {
   "cell_type": "markdown",
   "id": "6ac5f541",
   "metadata": {},
   "source": [
    "There are Five core tasks in the common ML workflow:\n",
    "\n",
    "1.Get Data:   \n",
    "\n",
    "      The first step in the Machine Learning process is getting data.\n",
    "2.Cleaning, Preparing & Manipulating Data: \n",
    "\n",
    "     Real-world data often has unorganized, missing, or noisy elements.\n",
    "3.Train Model: \n",
    "\n",
    "     This step is where the magic happens!\n",
    "4.Testing Model.\n",
    "\n",
    "5.Improving model.\n",
    "\n",
    "6.Data preprocessing involves transforming raw data to well-formed data sets so that data mining analytics can be       applied.\n",
    "\n",
    "7.Preprocessing involves both data validation and data imputation\n",
    "\n",
    "8.The Goal of Data Validation is to assess whether the data in question is both complete and accurate.\n",
    "\n",
    "9.The Goal of Data Imputation is to correct errors and input missing values, Either Manually or Automatically through   business process automation (BPA) programming."
   ]
  },
  {
   "cell_type": "markdown",
   "id": "42864c01",
   "metadata": {},
   "source": [
    "2. Describe quantitative and qualitative data in depth. Make a distinction between the two."
   ]
  },
  {
   "cell_type": "markdown",
   "id": "1f3b3efb",
   "metadata": {},
   "source": [
    "Quantitative Data Type: \n",
    "\n",
    "      This type Of data type consists of numerical values. Anything which is measured by numbers. ex., Profit, \n",
    "      Quantity Sold, Height, Weight, Temperature, etc. This is again of two types\n",
    "       \n",
    "Descrete Data Type: – \n",
    "\n",
    "      The Numeric data which have descrete values or Whole Numbers. This type of Variable value if expressed in \n",
    "      Decimal Format will have no proper meaning. Their values can Be counted. ex.: – No. of cars you have, no. of\n",
    "      marbles in containers, students in a class, etc.\n",
    "      \n",
    "Continuous Data Type: –\n",
    "\n",
    "     The numerical neasures which can take the value within a certain range. This type of variable value If \n",
    "     expressed in decimal format has true meaning. Their values can not be counted but measured. The value can be \n",
    "     infinite ex: Height, Weight, Time, Area, Distance, Measurement of Rainfall, etc.\n",
    "     \n",
    "Qualitative Data Type: \n",
    "\n",
    "      These are the data types that cannot be expressed in numbers. This describes categories or groups and is \n",
    "      hence known as the categorical data type. This can be divided into:-\n",
    "        \n",
    "Structured Data: \n",
    "\n",
    "     This type of data is either number or Words. This can take numerical values but mathematical operations cannot\n",
    "     be Performed on it. This type of data is expressed in tabular format. ex : sunny=1, cloudy=2, windy=3 or \n",
    "     binary form data like 0 or 1, good or bad, etc.\n",
    "     \n",
    "Unstructured Data: \n",
    "\n",
    "     This type of data does not have the proper format and therefore known as unstructured data. This comprises \n",
    "     textual data, sounds, images, videos, etc."
   ]
  },
  {
   "cell_type": "markdown",
   "id": "a2a18824",
   "metadata": {},
   "source": [
    "3. Create a basic data collection that includes some sample records. Have at least one attribute from each of the machine learning data types.\n"
   ]
  },
  {
   "cell_type": "markdown",
   "id": "ff2618ac",
   "metadata": {},
   "source": [
    " The following is a basic data collection that includes some sample records.\n",
    "\n",
    "Determine what information you want to collect: \n",
    "\n",
    "       The first thing you need to do is choose what details you want to collect. You’ll need to decide what topics \n",
    "       the information will cover, who you want to collect it from and how much data you need. Your goals — what \n",
    "       you hope to accomplish using your data — will determine your answers to these questions. As an example, you \n",
    "       may decide to collect data about which type of articles are most popular on your website among visitors who\n",
    "       are between the ages of 18 and 34. You might also choose to gather information about the average age of all \n",
    "       of the customers who bought a product from your company within the last month.\n",
    "\n",
    "Set a Timeframe for Data Collection: \n",
    "\n",
    "       Next, you can start formulating your plan for how you’ll collect your data. In the early stages of your \n",
    "       planning process, you should establish a timeframe for your data collection. You may want to gather some \n",
    "       types of data continuously. When it comes to transactional data and website visitor data, for example, you \n",
    "       may want to set up a method for tracking that data over the long term. If you’re tracking data for specific\n",
    "       campaign, however, you’ll track it over a defined period. In these instances, you’ll have a schedule for \n",
    "       when you’ll start and end your data collection.\n",
    "\n",
    "Determine your data collection method: \n",
    "\n",
    "       At this step, you will choose the data collection method that will make up the core of your data-gathering \n",
    "       strategy. To select the right collection method, you’ll need to consider the type of information you want to \n",
    "       collect, the timeframe over which you’ll obtain it and the other aspects you determined.\n",
    "\n",
    "Collect the Data: \n",
    "\n",
    "      Once you have finalized your plan, you can implement your data collection strategy and start collecting data.\n",
    "      You can store and organize your data in your DMP. Be sure to stick to your plan and check on its progress \n",
    "      regularly. It may be useful to create a schedule for when you will check in with how your data collection is \n",
    "      proceeding, especially if you are collecting data continuously. You may want to make updates to your plan \n",
    "      as conditions change and you get new information.\n",
    "\n",
    "Analyze the Data and Implement Your Findings: \n",
    "\n",
    "        Once you’ve collected all of your data, it’s time to analyze it and organize your findings. The analysis \n",
    "        phase is crucial because it turns raw data into valuable insights that you can use to enhance your \n",
    "        marketing\n",
    "        strategies, products and business decisions. You can use the analytics tools built into our DMP to help \n",
    "        with this step. Once you’ve uncovered the patterns and insights in your data, you can implement the \n",
    "        findings to improve your business."
   ]
  },
  {
   "cell_type": "markdown",
   "id": "fdbcc753",
   "metadata": {},
   "source": [
    "4. What are the various causes of machine learning data issues? What are the ramifications?"
   ]
  },
  {
   "cell_type": "markdown",
   "id": "a8c88d64",
   "metadata": {},
   "source": [
    "Answer  :\n",
    "    \n",
    "     Noisy data, dirty data, and incomplete data are the quintessential enemies of ideal Machine Learning. The \n",
    "     solution to this conundrum is to take the time to evaluate and scope data with meticulous data governance, \n",
    "     data integration, and data exploration until you get clear data. Ramifications or major issues in \n",
    "     machine learning are:\n",
    "\n",
    "Five practical issues in machine learning and the business implications Data quality.\n",
    "\n",
    "    1.Machine learning systems rely on data.\n",
    "    2.The complexity and quality trade-off.\n",
    "    3.Sampling bias in data.\n",
    "    4.Changing expectations and concept drift.\n",
    "    5.Monitoring and maintenance."
   ]
  },
  {
   "cell_type": "markdown",
   "id": "e4731f54",
   "metadata": {},
   "source": [
    "5. Demonstrate various approaches to categorical data exploration with appropriate examples."
   ]
  },
  {
   "cell_type": "markdown",
   "id": "874ace12",
   "metadata": {},
   "source": [
    "Unique value count: \n",
    "\n",
    "     One of the first things which can be useful during data exploration is to see how many unique values are there \n",
    "     in categorical columns.\n",
    "      \n",
    "Frequency Count: \n",
    "\n",
    "      Frequency count is finding how frequent individual values occur in column.\n",
    "      \n",
    "Variance: \n",
    "\n",
    "       Variance gives a good indication how the values are spread.\n",
    "       \n",
    "Pareto Analysis: \n",
    "\n",
    "       Pareto analysis is a creative way of focusing on what is important. Pareto 80–20 rule can be effectively\n",
    "       used in data exploration.\n",
    "       \n",
    "Histogram:\n",
    "\n",
    "     Histogram are one of the data scientists favourite data exploration techniques. It gives information on the \n",
    "     range of values in which most of the values fall. It also gives information on whether there is any skew in \n",
    "     data.\n",
    "     \n",
    "Correlation Heat-map between all numeric columns:\n",
    "\n",
    "    The term correlation refers to a mutual relationship or association between two things.\n",
    "    \n",
    "Pearson Correlation and Trend between two numeric columns: \n",
    "\n",
    "    Once you have visualised correlation heat-map , the next step is to see the correlation trend between two \n",
    "    specific numeric columns.\n",
    "    \n",
    "Outlier overview: \n",
    "\n",
    "     Finding something unusual in data is called Outlier detection (also known as anomaly detection). These \n",
    "     outliers represent something unusual, rare , anomaly or something exceptional."
   ]
  },
  {
   "cell_type": "markdown",
   "id": "4b22f6d3",
   "metadata": {},
   "source": [
    "6. How would the learning activity be affected if certain variables have missing values? Having said that, what can be done about it?"
   ]
  },
  {
   "cell_type": "markdown",
   "id": "8bed0534",
   "metadata": {},
   "source": [
    "Even in a Well-Designed & Controlled study, Missing data occurs in almost all research. Missing data can reduce the statistical power of a study and can produce biased estimates, leading to invalid conclusions.\n",
    "\n",
    "Real-world data collection has its own set of problems, It is often very messy which includes missing data, presence of outliers, unstructured manner, etc.\n",
    "Before looking for any insights from the data, we have to first perform preprocessing tasks which then only allow us to use that data for further observation and train our machine learning model.\n",
    "Missing value in a dataset is a very common phenomenon in the reality.\n",
    "Missing value correction is required to reduce bias and to produce powerful suitable models.\n",
    "Most of the algorithms can’t handle missing data, thus you need to act in some way to simply not let your code crash. So, let’s begin with the methods to solve the problem.\n",
    "Methods for dealing with missing values. The popular methods which are used by the machine learning community to handle the missing value for categorical variables in the dataset are as follows: Delete the observations: If there is a large number of observations in the dataset, where all the classes to be predicted are sufficiently represented in the training data, then try deleting the missing value observations, which would not bring significant change in your feed to your model.\n"
   ]
  },
  {
   "cell_type": "markdown",
   "id": "d4169481",
   "metadata": {},
   "source": [
    "7. Describe the various methods for dealing with missing data values in depth."
   ]
  },
  {
   "cell_type": "markdown",
   "id": "8490ba50",
   "metadata": {},
   "source": [
    " The Various Methods for dealing with missing data values are:\n",
    "\n",
    "Delete the observations: If there is a large number of observations in the dataset, where all the classes to be predicted are sufficiently represented in the training data, then try deleting the missing value observations, which would not bring significant change in your feed to your model. For Example Implement this method in a given dataset, we can delete the entire row which contains missing values.\n",
    "Replace missing values with the most frequent value: You can always impute them based on Mode in the case of categorical variables, just make sure you don’t have highly skewed class distributions.\n",
    "Develop a model to predict missing values: One smart way of doing this could be training a classifier over your columns with missing values as a dependent variable against other features of your data set and trying to impute based on the newly trained classifier."
   ]
  },
  {
   "cell_type": "markdown",
   "id": "93230c51",
   "metadata": {},
   "source": [
    "8. What are the various data pre-processing techniques? Explain dimensionality reduction and function selection in a few words."
   ]
  },
  {
   "cell_type": "markdown",
   "id": "ec226f5e",
   "metadata": {},
   "source": [
    "Data Cleaning: The data can have many irrelevant and missing parts. To handle this part, data cleaning is done. It involves handling of missing data, noisy data etc.\n",
    "Missing Data: This situation arises when some data is missing in the data. It can be handled in various ways. Some of them are:\n",
    "Ignore the tuples: This approach is suitable only when the dataset we have is quite large and multiple values are missing within a tuple.\n",
    "Fill the Missing values: There are various ways to do this task. You can choose to fill the missing values manually, by attribute mean or the most probable value.\n",
    "Noisy Data: Noisy data is a meaningless data that can’t be interpreted by machines.It can be generated due to faulty data collection, data entry errors etc. It can be handled in following ways :\n",
    "Binning Method: This method works on sorted data in order to smooth it. The whole data is divided into segments of equal size and then various methods are performed to complete the task. Each segmented is handled separately. One can replace all data in a segment by its mean or boundary values can be used to complete the task.\n",
    "Regression: Here data can be made smooth by fitting it to a regression function.The regression used may be linear (having one independent variable) or multiple (having multiple independent variables).\n",
    "Clustering: This approach groups the similar data in a cluster. The outliers may be undetected or it will fall outside the clusters.\n",
    "Data Reduction: Since data mining is a technique that is used to handle huge amount of data. While working with huge volume of data, analysis became harder in such cases. In order to get rid of this, we uses data reduction technique. It aims to increase the storage efficiency and reduce data storage and analysis costs. The various steps to data reduction are:\n",
    "Data Cube Aggregation: Aggregation operation is applied to data for the construction of the data cube.\n",
    "Attribute Subset Selection: The highly relevant attributes should be used, rest all can be discarded. For performing attribute selection, one can use level of significance and p- value of the attribute.the attribute having p-value greater than significance level can be discarded.\n",
    "Numerosity Reduction: This enable to store the model of data instead of whole data, for example: Regression Models.\n",
    "Dimensionality Reduction: This reduce the size of data by encoding mechanisms.It can be lossy or lossless. If after reconstruction from compressed data, original data can be retrieved, such reduction are called lossless reduction else it is called lossy reduction. The two effective methods of dimensionality reduction are:Wavelet transforms and PCA (Principal Component Analysis).\n",
    "Feature selection is simply selecting and excluding given features without changing them. Dimensionality reduction transforms features into a lower dimension."
   ]
  },
  {
   "cell_type": "raw",
   "id": "e581dbf5",
   "metadata": {},
   "source": [
    "9.Make brief notes on of the following ?\n",
    "What is the IQR? What criteria are used to assess it?\n",
    "Describe the various components of a box plot in detail? When will the lower whisker surpass the upper whisker in length? How can box plots be used to identify outliers?"
   ]
  },
  {
   "cell_type": "markdown",
   "id": "86738b38",
   "metadata": {},
   "source": [
    "The following is the brief notes on the following topics:\n",
    "\n",
    "What is the IQR? What criteria are used to assess it?\n",
    "Q1 is the first quartile of the data, i.e., to say 25% of the data lies between minimum and Q1.\n",
    "Q3 is the third quartile of the data, i.e., to say 75% of the data lies between minimum and Q3.\n",
    "The difference between Q3 and Q1 is called the Inter-Quartile Range or IQR.\n",
    "Describe the various components of a box plot in detail? When will the lower whisker surpass the upper whisker in length? How can box plots be used to identify outliers?\n",
    "minimum is the minimum value in the dataset\n",
    "maximum is the maximum value in the dataset.\n",
    "So the difference between the two tells us about the range of dataset.\n",
    "The median is the median (or centre point), also called second quartile, of the data (resulting from the fact that the data is ordered).\n",
    "Q1 is the first quartile of the data, i.e., to say 25% of the data lies between minimum and Q1.\n",
    "Q3 is the third quartile of the data, i.e., to say 75%\n",
    "When the data is left skewed, lower whisker will be longer than upper whisker.\n",
    "To detect the outliers this method is used, we define a new range, let’s call it decision range, and any data point lying outside this range is considered as outlier and is accordingly dealt with. The range is as given below: Lower Bound: (Q1 - 1.5 * IQR)Upper Bound: (Q3 + 1.5 * IQR)\n",
    "The difference between Q3 and Q1 is called the Inter-Quartile Range or IQR."
   ]
  },
  {
   "cell_type": "raw",
   "id": "4a6468dc",
   "metadata": {},
   "source": [
    "10. Make brief notes on any two of the following ?\n",
    "Data collected at regular intervals\n",
    "The gap between the quartiles\n",
    "Use a cross-tab"
   ]
  },
  {
   "cell_type": "markdown",
   "id": "11becc2a",
   "metadata": {},
   "source": [
    "The following are the breif notes about:\n",
    "\n",
    "Data collected at regular intervals:\n",
    "Interval data is one of the two types of discrete data.\n",
    "An example of interval data is the data collected on a thermometer—its gradation or markings are equidistant.\n",
    "Unlike ordinal data, interval data always take numerical values where the distance between two points on the scale is standardised and equal.\n",
    "The gap between the quartiles:\n",
    "Q1 is the first quartile of the data, i.e., to say 25% of the data lies between minimum and Q1.\n",
    "Q3 is the third quartile of the data, i.e., to say 75% of the data lies between minimum and Q3.\n",
    "The difference between Q3 and Q1 is called the Inter-Quartile Range or IQR.\n"
   ]
  },
  {
   "cell_type": "raw",
   "id": "b61ba3b0",
   "metadata": {},
   "source": [
    "11. Make a comparison between ?\n",
    "Data with nominal and ordinal values\n",
    "Histogram and box plot\n",
    "The average and median"
   ]
  },
  {
   "cell_type": "markdown",
   "id": "f42bd1f2",
   "metadata": {},
   "source": [
    " The following are the breif notes about:\n",
    "\n",
    "The average and median:\n",
    "The mean (informally, the “average“) is found by adding all of the numbers together and dividing by the number of items in the set: 10 + 10 + 20 + 40 + 70 / 5 = 30. The median is found by ordering the set from lowest to highest and finding the exact middle. The median is just the middle number: 20\n",
    "Histogram and barplot:\n",
    "Histograms and box plots are very similar in that they both help to visualize and describe numeric data. Although histograms are better in determining the underlying distribution of the data, box plots allow you to compare multiple data sets better than histograms as they are less detailed and take up less space."
   ]
  },
  {
   "cell_type": "code",
   "execution_count": null,
   "id": "aabcf68c",
   "metadata": {},
   "outputs": [],
   "source": []
  }
 ],
 "metadata": {
  "kernelspec": {
   "display_name": "Python 3 (ipykernel)",
   "language": "python",
   "name": "python3"
  },
  "language_info": {
   "codemirror_mode": {
    "name": "ipython",
    "version": 3
   },
   "file_extension": ".py",
   "mimetype": "text/x-python",
   "name": "python",
   "nbconvert_exporter": "python",
   "pygments_lexer": "ipython3",
   "version": "3.9.7"
  }
 },
 "nbformat": 4,
 "nbformat_minor": 5
}
